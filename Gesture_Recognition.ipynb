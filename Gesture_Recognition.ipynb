{
 "cells": [
  {
   "cell_type": "markdown",
   "metadata": {
    "id": "BQqn7NbjgpTg"
   },
   "source": [
    "# Gesture Recognition\n",
    "In this group project, you are going to build a 3D Conv model that will be able to predict the 5 gestures correctly. Please import the following libraries to get started."
   ]
  },
  {
   "cell_type": "markdown",
   "metadata": {},
   "source": [
    "# PG Diploma in Machine Learning and AI.\n",
    "\n",
    "#### Developed by:\n",
    "##### 1. Piyush Kadve - Group facilitator\n",
    "##### 2. Ajith Rao"
   ]
  },
  {
   "cell_type": "code",
   "execution_count": 2,
   "metadata": {
    "id": "56BvVp6ggpTm"
   },
   "outputs": [],
   "source": [
    "import numpy as np\n",
    "import os\n",
    "from matplotlib.pyplot import imread\n",
    "from skimage.transform import resize as imresize\n",
    "import datetime\n",
    "import os"
   ]
  },
  {
   "cell_type": "markdown",
   "metadata": {
    "id": "Avn_ohsygpTo"
   },
   "source": [
    "We set the random seed so that the results don't vary drastically."
   ]
  },
  {
   "cell_type": "code",
   "execution_count": 3,
   "metadata": {
    "id": "tg3CXYXlgpTp"
   },
   "outputs": [],
   "source": [
    "np.random.seed(30)\n",
    "import random as rn\n",
    "rn.seed(30)\n",
    "from keras import backend as K\n",
    "import tensorflow as tf\n",
    "tf.random.set_seed(30)"
   ]
  },
  {
   "cell_type": "markdown",
   "metadata": {
    "id": "h9CQ8N33gpTq"
   },
   "source": [
    "In this block, you read the folder names for training and validation. You also set the `batch_size` here. Note that you set the batch size in such a way that you are able to use the GPU in full capacity. You keep increasing the batch size until the machine throws an error."
   ]
  },
  {
   "cell_type": "code",
   "execution_count": 4,
   "metadata": {
    "id": "oXy3ZzehgpTr"
   },
   "outputs": [],
   "source": [
    "train_doc = np.random.permutation(open('/home/datasets/Project_data/train.csv').readlines())\n",
    "val_doc = np.random.permutation(open('/home/datasets/Project_data/val.csv').readlines())\n",
    "batch_size = 32"
   ]
  },
  {
   "cell_type": "markdown",
   "metadata": {
    "id": "NzXc8zd7gpTr"
   },
   "source": [
    "## Generator\n",
    "This is one of the most important part of the code. The overall structure of the generator has been given. In the generator, you are going to preprocess the images as you have images of 2 different dimensions as well as create a batch of video frames. You have to experiment with `img_idx`, `y`,`z` and normalization such that you get high accuracy."
   ]
  },
  {
   "cell_type": "code",
   "execution_count": 5,
   "metadata": {
    "id": "Wnm2hsQDgpTt"
   },
   "outputs": [],
   "source": [
    "x = 30 # number of frames\n",
    "y = 160 # image width\n",
    "z = 160 # image height\n",
    "channels=3\n",
    "classes=5"
   ]
  },
  {
   "cell_type": "code",
   "execution_count": 6,
   "metadata": {
    "id": "iNJNLay5gpTu"
   },
   "outputs": [],
   "source": [
    "def generator(source_path, folder_list, batch_size):\n",
    "    print( 'Source path = ', source_path, '; batch size =', batch_size)\n",
    "    img_idx =[x for x in range(0,x)]   #create a list of image numbers you want to use for a particular video\n",
    "    while True:\n",
    "        t = np.random.permutation(folder_list)\n",
    "        num_batches = len(t)//batch_size    # calculate the number of batches\n",
    "        for batch in range(num_batches): # we iterate over the number of batches\n",
    "            batch_data = np.zeros((batch_size,x,y,z,channels)) # x is the number of images you use for each video, (y,z) is the final size of the input images and 3 is the number of channels RGB\n",
    "            batch_labels = np.zeros((batch_size,classes)) # batch_labels is the one hot representation of the output\n",
    "            for folder in range(batch_size): # iterate over the batch_size\n",
    "                imgs = os.listdir(source_path+'/'+ t[folder + (batch*batch_size)].split(';')[0]) # read all the images in the folder\n",
    "                for idx,item in enumerate(img_idx): #  Iterate iver the frames/images of a folder to read them in\n",
    "                    image = imread(source_path+'/'+ t[folder + (batch*batch_size)].strip().split(';')[0]+'/'+imgs[item]).astype(np.float32)\n",
    "                    \n",
    "                    #crop the images and resize them. Note that the images are of 2 different shape \n",
    "                    #and the conv3D will throw error if the inputs in a batch have different shapes\n",
    "                    \n",
    "                    temp = imresize(image,(y,z))\n",
    "                    temp = temp/255 #Normalize data\n",
    "                    \n",
    "                    batch_data[folder,idx,:,:,0] = (temp[:,:,0])  #normalise and feed in the image\n",
    "                    batch_data[folder,idx,:,:,1] = (temp[:,:,1])  #normalise and feed in the image\n",
    "                    batch_data[folder,idx,:,:,2] = (temp[:,:,2])  #normalise and feed in the image\n",
    "                    \n",
    "                batch_labels[folder, int(t[folder + (batch*batch_size)].strip().split(';')[2])] = 1\n",
    "            yield batch_data, batch_labels #you yield the batch_data and the batch_labels, remember what does yield do\n",
    "\n",
    "        \n",
    "        # write the code for the remaining data points which are left after full batches\n",
    "        if (len(folder_list) != batch_size*num_batches):\n",
    "            print(\"Batch: \",num_batches+1,\"Index:\", batch_size)\n",
    "            batch_size = len(folder_list) - (batch_size*num_batches)\n",
    "            batch_data = np.zeros((batch_size,x,y,z,channels)) # x is the number of images you use for each video, (y,z) is the final size of the input images and 3 is the number of channels RGB\n",
    "            batch_labels = np.zeros((batch_size,classes)) # batch_labels is the one hot representation of the output\n",
    "            for folder in range(batch_size): # iterate over the batch_size\n",
    "                imgs = os.listdir(source_path+'/'+ t[folder + (batch*batch_size)].split(';')[0]) # read all the images in the folder\n",
    "                for idx,item in enumerate(img_idx): #  Iterate iver the frames/images of a folder to read them in\n",
    "                    image = imread(source_path+'/'+ t[folder + (batch*batch_size)].strip().split(';')[0]+'/'+imgs[item]).astype(np.float32)\n",
    "                    \n",
    "                    #crop the images and resize them. Note that the images are of 2 different shape \n",
    "                    #and the conv3D will throw error if the inputs in a batch have different shapes\n",
    "                    temp = imresize(image,(y,z))\n",
    "                    temp = temp/255 #Normalize data\n",
    "                    \n",
    "                    batch_data[folder,idx,:,:,0] = (temp[:,:,0])\n",
    "                    batch_data[folder,idx,:,:,1] = (temp[:,:,1])\n",
    "                    batch_data[folder,idx,:,:,2] = (temp[:,:,2])\n",
    "                   \n",
    "                batch_labels[folder, int(t[folder + (batch*batch_size)].strip().split(';')[2])] = 1\n",
    "            yield batch_data, batch_labels"
   ]
  },
  {
   "cell_type": "markdown",
   "metadata": {
    "id": "ucRtktYfgpT0"
   },
   "source": [
    "Note here that a video is represented above in the generator as (number of images, height, width, number of channels). Take this into consideration while creating the model architecture."
   ]
  },
  {
   "cell_type": "code",
   "execution_count": 7,
   "metadata": {
    "id": "a0gXbYM5gpT1",
    "outputId": "14fa801e-cdff-4f34-87b4-99aca0438c64"
   },
   "outputs": [
    {
     "name": "stdout",
     "output_type": "stream",
     "text": [
      "# training sequences = 663\n",
      "# validation sequences = 100\n",
      "# epochs = 10\n",
      "20\n"
     ]
    }
   ],
   "source": [
    "curr_dt_time = datetime.datetime.now()\n",
    "train_path = '/home/datasets/Project_data/train'\n",
    "val_path = '/home/datasets/Project_data/val'\n",
    "num_train_sequences = len(train_doc)\n",
    "print('# training sequences =', num_train_sequences)\n",
    "num_val_sequences = len(val_doc)\n",
    "print('# validation sequences =', num_val_sequences)\n",
    "num_epochs =   10  # choose the number of epochs\n",
    "print ('# epochs =', num_epochs)\n",
    "num_batches = num_train_sequences//batch_size \n",
    "print(num_batches)"
   ]
  },
  {
   "cell_type": "markdown",
   "metadata": {
    "id": "Mw1dmw-hgpT2"
   },
   "source": [
    "## Model\n",
    "Here you make the model using different functionalities that Keras provides. Remember to use `Conv3D` and `MaxPooling3D` and not `Conv2D` and `Maxpooling2D` for a 3D convolution model. You would want to use `TimeDistributed` while building a Conv2D + RNN model. Also remember that the last layer is the softmax. Design the network in such a way that the model is able to give good accuracy on the least number of parameters so that it can fit in the memory of the webcam."
   ]
  },
  {
   "cell_type": "markdown",
   "metadata": {
    "id": "YAlQKeJ9gpT3"
   },
   "source": [
    "#### Experiment 1: Creating a model with 160x160 image size,epochs=10 and batch_size=32"
   ]
  },
  {
   "cell_type": "code",
   "execution_count": 8,
   "metadata": {
    "id": "ezmdIdFvgpT3",
    "outputId": "5e7504e0-a1fb-4b2a-8bf2-923b44598092"
   },
   "outputs": [
    {
     "name": "stderr",
     "output_type": "stream",
     "text": [
      "2022-05-18 12:44:19.596676: W tensorflow/core/common_runtime/gpu/gpu_bfc_allocator.cc:39] Overriding allow_growth setting because the TF_FORCE_GPU_ALLOW_GROWTH environment variable is set. Original config value was 0.\n",
      "2022-05-18 12:44:19.596740: I tensorflow/core/common_runtime/gpu/gpu_device.cc:1525] Created device /job:localhost/replica:0/task:0/device:GPU:0 with 14803 MB memory:  -> device: 0, name: Quadro RTX 5000, pci bus id: 0000:1c:00.0, compute capability: 7.5\n"
     ]
    }
   ],
   "source": [
    "from keras.models import Sequential, Model\n",
    "from keras.layers import Dense, GRU, Flatten, TimeDistributed, Flatten, BatchNormalization, Activation\n",
    "from keras.layers.convolutional import Conv3D, MaxPooling3D\n",
    "from keras.callbacks import ModelCheckpoint, ReduceLROnPlateau, EarlyStopping\n",
    "from keras import optimizers\n",
    "from keras.layers import Dropout\n",
    "\n",
    "#write your model here\n",
    "model_1 = Sequential()\n",
    "\n",
    "model_1.add(Conv3D(8, #number of filters \n",
    "                 kernel_size=(3,3,3), \n",
    "                 input_shape=(x,y,z,channels),\n",
    "                 padding='same'))\n",
    "\n",
    "model_1.add(Activation('relu'))\n",
    "model_1.add(BatchNormalization())\n",
    "\n",
    "model_1.add(MaxPooling3D(pool_size=(2,2,2)))\n",
    "\n",
    "model_1.add(Conv3D(16, #Number of filters, \n",
    "                 kernel_size=(3,3,3), \n",
    "                 padding='same'))\n",
    "\n",
    "model_1.add(Activation('relu'))\n",
    "model_1.add(BatchNormalization())\n",
    "model_1.add(MaxPooling3D(pool_size=(2,2,2)))\n",
    "\n",
    "model_1.add(Conv3D(32, #Number of filters \n",
    "                 kernel_size=(1,3,3), \n",
    "                 padding='same'))\n",
    "\n",
    "model_1.add(Activation('relu'))\n",
    "model_1.add(BatchNormalization())\n",
    "model_1.add(MaxPooling3D(pool_size=(2,2,2)))\n",
    "\n",
    "\n",
    "model_1.add(Conv3D(64, #Number pf filters \n",
    "                 kernel_size=(1,3,3), \n",
    "                 padding='same'))\n",
    "model_1.add(BatchNormalization())\n",
    "model_1.add(Activation('relu'))\n",
    "\n",
    "\n",
    "\n",
    "#Flatten Layers\n",
    "model_1.add(Flatten())\n",
    "\n",
    "model_1.add(Dense(100, activation='relu'))\n",
    "model_1.add(Dropout(0.5))\n",
    "\n",
    "\n",
    "#softmax layer\n",
    "model_1.add(Dense(classes, activation='softmax'))"
   ]
  },
  {
   "cell_type": "markdown",
   "metadata": {
    "id": "89ykMn3IgpT4"
   },
   "source": [
    "Now that you have written the model, the next step is to `compile` the model. When you print the `summary` of the model, you'll see the total number of parameters you have to train."
   ]
  },
  {
   "cell_type": "code",
   "execution_count": 9,
   "metadata": {
    "id": "a1Ra9YkPgpT4",
    "outputId": "7c3107fb-d04e-4fc8-d5ef-21750d386a44",
    "scrolled": true
   },
   "outputs": [
    {
     "name": "stdout",
     "output_type": "stream",
     "text": [
      "Model: \"sequential\"\n",
      "_________________________________________________________________\n",
      " Layer (type)                Output Shape              Param #   \n",
      "=================================================================\n",
      " conv3d (Conv3D)             (None, 30, 160, 160, 8)   656       \n",
      "                                                                 \n",
      " activation (Activation)     (None, 30, 160, 160, 8)   0         \n",
      "                                                                 \n",
      " batch_normalization (BatchN  (None, 30, 160, 160, 8)  32        \n",
      " ormalization)                                                   \n",
      "                                                                 \n",
      " max_pooling3d (MaxPooling3D  (None, 15, 80, 80, 8)    0         \n",
      " )                                                               \n",
      "                                                                 \n",
      " conv3d_1 (Conv3D)           (None, 15, 80, 80, 16)    3472      \n",
      "                                                                 \n",
      " activation_1 (Activation)   (None, 15, 80, 80, 16)    0         \n",
      "                                                                 \n",
      " batch_normalization_1 (Batc  (None, 15, 80, 80, 16)   64        \n",
      " hNormalization)                                                 \n",
      "                                                                 \n",
      " max_pooling3d_1 (MaxPooling  (None, 7, 40, 40, 16)    0         \n",
      " 3D)                                                             \n",
      "                                                                 \n",
      " conv3d_2 (Conv3D)           (None, 7, 40, 40, 32)     4640      \n",
      "                                                                 \n",
      " activation_2 (Activation)   (None, 7, 40, 40, 32)     0         \n",
      "                                                                 \n",
      " batch_normalization_2 (Batc  (None, 7, 40, 40, 32)    128       \n",
      " hNormalization)                                                 \n",
      "                                                                 \n",
      " max_pooling3d_2 (MaxPooling  (None, 3, 20, 20, 32)    0         \n",
      " 3D)                                                             \n",
      "                                                                 \n",
      " conv3d_3 (Conv3D)           (None, 3, 20, 20, 64)     18496     \n",
      "                                                                 \n",
      " batch_normalization_3 (Batc  (None, 3, 20, 20, 64)    256       \n",
      " hNormalization)                                                 \n",
      "                                                                 \n",
      " activation_3 (Activation)   (None, 3, 20, 20, 64)     0         \n",
      "                                                                 \n",
      " flatten (Flatten)           (None, 76800)             0         \n",
      "                                                                 \n",
      " dense (Dense)               (None, 100)               7680100   \n",
      "                                                                 \n",
      " dropout (Dropout)           (None, 100)               0         \n",
      "                                                                 \n",
      " dense_1 (Dense)             (None, 5)                 505       \n",
      "                                                                 \n",
      "=================================================================\n",
      "Total params: 7,708,349\n",
      "Trainable params: 7,708,109\n",
      "Non-trainable params: 240\n",
      "_________________________________________________________________\n",
      "None\n"
     ]
    }
   ],
   "source": [
    "optimiser = 'adam'\n",
    "model_1.compile(optimizer=optimiser, loss='categorical_crossentropy', metrics=['categorical_accuracy'])\n",
    "print (model_1.summary())"
   ]
  },
  {
   "cell_type": "markdown",
   "metadata": {
    "id": "SDnUGYRJgpT5"
   },
   "source": [
    "Let us create the `train_generator` and the `val_generator` which will be used in `.fit_generator`."
   ]
  },
  {
   "cell_type": "code",
   "execution_count": 10,
   "metadata": {
    "id": "WkUnYsKkgpT5"
   },
   "outputs": [],
   "source": [
    "train_generator = generator(train_path, train_doc, batch_size)\n",
    "val_generator = generator(val_path, val_doc, batch_size)"
   ]
  },
  {
   "cell_type": "code",
   "execution_count": 11,
   "metadata": {
    "id": "w93tMs-qgpT6",
    "outputId": "c943ffd6-c12c-4bb4-9754-d14573fe836a"
   },
   "outputs": [
    {
     "name": "stdout",
     "output_type": "stream",
     "text": [
      "WARNING:tensorflow:`period` argument is deprecated. Please use `save_freq` to specify the frequency in number of batches seen.\n"
     ]
    }
   ],
   "source": [
    "model_name = 'model_init' + '_' + str(curr_dt_time).replace(' ','').replace(':','_') + '/'\n",
    "    \n",
    "if not os.path.exists(model_name):\n",
    "    os.mkdir(model_name)\n",
    "        \n",
    "filepath = model_name + 'model-{epoch:05d}-{loss:.5f}-{categorical_accuracy:.5f}-{val_loss:.5f}-{val_categorical_accuracy:.5f}.h5'\n",
    "\n",
    "checkpoint = ModelCheckpoint(filepath, monitor='val_loss', verbose=1, save_best_only=False, save_weights_only=False, mode='auto', period=1)\n",
    "\n",
    "LR = ReduceLROnPlateau(monitor='val_loss', factor=0.2, patience=4, cooldown=1, verbose=1)# write the REducelronplateau code here\n",
    "earlystop = EarlyStopping( monitor=\"val_loss\", min_delta=0,patience=10,verbose=1)\n",
    "callbacks_list = [checkpoint, LR, earlystop]"
   ]
  },
  {
   "cell_type": "markdown",
   "metadata": {
    "id": "Rs0eCInRgpT6"
   },
   "source": [
    "The `steps_per_epoch` and `validation_steps` are used by `fit_generator` to decide the number of next() calls it need to make."
   ]
  },
  {
   "cell_type": "code",
   "execution_count": 12,
   "metadata": {
    "id": "ACfk3IRMgpT7"
   },
   "outputs": [],
   "source": [
    "if (num_train_sequences%batch_size) == 0:\n",
    "    steps_per_epoch = int(num_train_sequences/batch_size)\n",
    "else:\n",
    "    steps_per_epoch = (num_train_sequences//batch_size) + 1\n",
    "\n",
    "if (num_val_sequences%batch_size) == 0:\n",
    "    validation_steps = int(num_val_sequences/batch_size)\n",
    "else:\n",
    "    validation_steps = (num_val_sequences//batch_size) + 1"
   ]
  },
  {
   "cell_type": "markdown",
   "metadata": {
    "id": "BOQ3LvEHgpT7"
   },
   "source": [
    "Let us now fit the model. This will start training the model and with the help of the checkpoints, you'll be able to save the model at the end of each epoch."
   ]
  },
  {
   "cell_type": "code",
   "execution_count": 12,
   "metadata": {
    "id": "tdNkHPdygpT7",
    "outputId": "995f386a-14ff-4364-b101-2b3de83c495f"
   },
   "outputs": [
    {
     "name": "stdout",
     "output_type": "stream",
     "text": [
      "Source path =  /home/datasets/Project_data/train ; batch size = 32\n",
      "Epoch 1/10\n"
     ]
    },
    {
     "name": "stderr",
     "output_type": "stream",
     "text": [
      "2022-05-18 05:21:40.415274: I tensorflow/stream_executor/cuda/cuda_dnn.cc:377] Loaded cuDNN version 8302\n"
     ]
    },
    {
     "name": "stdout",
     "output_type": "stream",
     "text": [
      "19/21 [==========================>...] - ETA: 15s - loss: 10.6423 - categorical_accuracy: 0.3289Batch:  21 Index: 32\n",
      "21/21 [==============================] - ETA: 0s - loss: 9.8836 - categorical_accuracy: 0.3439 Source path =  /home/datasets/Project_data/val ; batch size = 32\n",
      "Batch:  4 Index: 32\n",
      "\n",
      "Epoch 00001: saving model to model_init_2022-05-1805_21_29.335541/model-00001-9.88361-0.34389-1.65058-0.16000.h5\n",
      "21/21 [==============================] - 194s 9s/step - loss: 9.8836 - categorical_accuracy: 0.3439 - val_loss: 1.6506 - val_categorical_accuracy: 0.1600 - lr: 0.0010\n",
      "Epoch 2/10\n",
      "21/21 [==============================] - ETA: 0s - loss: 1.3998 - categorical_accuracy: 0.4058\n",
      "Epoch 00002: saving model to model_init_2022-05-1805_21_29.335541/model-00002-1.39981-0.40580-1.98394-0.18750.h5\n",
      "21/21 [==============================] - 125s 6s/step - loss: 1.3998 - categorical_accuracy: 0.4058 - val_loss: 1.9839 - val_categorical_accuracy: 0.1875 - lr: 0.0010\n",
      "Epoch 3/10\n",
      " 6/21 [=======>......................] - ETA: 1:29 - loss: 1.3478 - categorical_accuracy: 0.4565Batch:  29 Index: 23\n",
      "21/21 [==============================] - ETA: 0s - loss: 1.3358 - categorical_accuracy: 0.4286\n",
      "Epoch 00003: saving model to model_init_2022-05-1805_21_29.335541/model-00003-1.33584-0.42857-1.81675-0.18750.h5\n",
      "21/21 [==============================] - 109s 5s/step - loss: 1.3358 - categorical_accuracy: 0.4286 - val_loss: 1.8168 - val_categorical_accuracy: 0.1875 - lr: 0.0010\n",
      "Epoch 4/10\n",
      "20/21 [===========================>..] - ETA: 4s - loss: 1.3132 - categorical_accuracy: 0.4368Batch:  35 Index: 19\n",
      "21/21 [==============================] - ETA: 0s - loss: 1.3042 - categorical_accuracy: 0.4361\n",
      "Epoch 00004: saving model to model_init_2022-05-1805_21_29.335541/model-00004-1.30416-0.43609-1.75785-0.18750.h5\n",
      "21/21 [==============================] - 103s 5s/step - loss: 1.3042 - categorical_accuracy: 0.4361 - val_loss: 1.7578 - val_categorical_accuracy: 0.1875 - lr: 0.0010\n",
      "Epoch 5/10\n",
      "21/21 [==============================] - ETA: 0s - loss: 1.3532 - categorical_accuracy: 0.4034\n",
      "Epoch 00005: saving model to model_init_2022-05-1805_21_29.335541/model-00005-1.35319-0.40336-1.60279-0.25000.h5\n",
      "21/21 [==============================] - 95s 5s/step - loss: 1.3532 - categorical_accuracy: 0.4034 - val_loss: 1.6028 - val_categorical_accuracy: 0.2500 - lr: 0.0010\n",
      "Epoch 6/10\n",
      "21/21 [==============================] - ETA: 0s - loss: 1.2995 - categorical_accuracy: 0.4454\n",
      "Epoch 00006: saving model to model_init_2022-05-1805_21_29.335541/model-00006-1.29949-0.44538-1.73573-0.31250.h5\n",
      "21/21 [==============================] - 91s 5s/step - loss: 1.2995 - categorical_accuracy: 0.4454 - val_loss: 1.7357 - val_categorical_accuracy: 0.3125 - lr: 0.0010\n",
      "Epoch 7/10\n",
      "21/21 [==============================] - ETA: 0s - loss: 1.2878 - categorical_accuracy: 0.4258\n",
      "Epoch 00007: saving model to model_init_2022-05-1805_21_29.335541/model-00007-1.28783-0.42577-2.08731-0.25000.h5\n",
      "21/21 [==============================] - 95s 5s/step - loss: 1.2878 - categorical_accuracy: 0.4258 - val_loss: 2.0873 - val_categorical_accuracy: 0.2500 - lr: 0.0010\n",
      "Epoch 8/10\n",
      "21/21 [==============================] - ETA: 0s - loss: 1.3111 - categorical_accuracy: 0.4174\n",
      "Epoch 00008: saving model to model_init_2022-05-1805_21_29.335541/model-00008-1.31107-0.41737-1.61652-0.25000.h5\n",
      "21/21 [==============================] - 90s 4s/step - loss: 1.3111 - categorical_accuracy: 0.4174 - val_loss: 1.6165 - val_categorical_accuracy: 0.2500 - lr: 0.0010\n",
      "Epoch 9/10\n",
      "21/21 [==============================] - ETA: 0s - loss: 1.2850 - categorical_accuracy: 0.4034\n",
      "Epoch 00009: saving model to model_init_2022-05-1805_21_29.335541/model-00009-1.28499-0.40336-2.51336-0.12500.h5\n",
      "\n",
      "Epoch 00009: ReduceLROnPlateau reducing learning rate to 0.00020000000949949026.\n",
      "21/21 [==============================] - 97s 5s/step - loss: 1.2850 - categorical_accuracy: 0.4034 - val_loss: 2.5134 - val_categorical_accuracy: 0.1250 - lr: 0.0010\n",
      "Epoch 10/10\n",
      "21/21 [==============================] - ETA: 0s - loss: 1.1993 - categorical_accuracy: 0.5070\n",
      "Epoch 00010: saving model to model_init_2022-05-1805_21_29.335541/model-00010-1.19925-0.50700-2.47311-0.18750.h5\n",
      "21/21 [==============================] - 92s 5s/step - loss: 1.1993 - categorical_accuracy: 0.5070 - val_loss: 2.4731 - val_categorical_accuracy: 0.1875 - lr: 2.0000e-04\n"
     ]
    },
    {
     "data": {
      "text/plain": [
       "<keras.callbacks.History at 0x7fd7c528e370>"
      ]
     },
     "execution_count": 12,
     "metadata": {},
     "output_type": "execute_result"
    }
   ],
   "source": [
    "model_1.fit(train_generator, steps_per_epoch=steps_per_epoch, epochs=num_epochs, verbose=1, \n",
    "                    callbacks=callbacks_list, validation_data=val_generator, \n",
    "                    validation_steps=validation_steps, class_weight=None, workers=1, initial_epoch=0)"
   ]
  },
  {
   "cell_type": "markdown",
   "metadata": {
    "id": "twn_VYZUgpT8"
   },
   "source": [
    "Not good results"
   ]
  },
  {
   "cell_type": "markdown",
   "metadata": {
    "id": "ihNjvwbLgpT8"
   },
   "source": [
    "#### Exp -2 :   Reduce the batch size to 20 and image dimensions to 60x60 with 30 frames "
   ]
  },
  {
   "cell_type": "code",
   "execution_count": 13,
   "metadata": {
    "id": "FxfN1-y2gpT8"
   },
   "outputs": [],
   "source": [
    "channels=3\n",
    "classes=5\n",
    "\n",
    "\n",
    "x = 30 # number of frames\n",
    "y = 60 # image width\n",
    "z = 60 # image height\n",
    "batch_size=20\n",
    "\n",
    "def generator(source_path, folder_list, batch_size):\n",
    "    print( 'Source path = ', source_path, '; batch size =', batch_size)\n",
    "    img_idx =[x for x in range(0,x)]   #create a list of image numbers you want to use for a particular video\n",
    "    while True:\n",
    "        t = np.random.permutation(folder_list)\n",
    "        num_batches = len(t)//batch_size    # calculate the number of batches\n",
    "        for batch in range(num_batches): # we iterate over the number of batches\n",
    "            batch_data = np.zeros((batch_size,x,y,z,channels)) # x is the number of images you use for each video, (y,z) is the final size of the input images and 3 is the number of channels RGB\n",
    "            batch_labels = np.zeros((batch_size,classes)) # batch_labels is the one hot representation of the output\n",
    "            for folder in range(batch_size): # iterate over the batch_size\n",
    "                imgs = os.listdir(source_path+'/'+ t[folder + (batch*batch_size)].split(';')[0]) # read all the images in the folder\n",
    "                for idx,item in enumerate(img_idx): #  Iterate iver the frames/images of a folder to read them in\n",
    "                    image = imread(source_path+'/'+ t[folder + (batch*batch_size)].strip().split(';')[0]+'/'+imgs[item]).astype(np.float32)\n",
    "                    \n",
    "                    #crop the images and resize them. Note that the images are of 2 different shape \n",
    "                    #and the conv3D will throw error if the inputs in a batch have different shapes\n",
    "                    \n",
    "                    temp = imresize(image,(y,z))\n",
    "                    temp = temp/255 #Normalize data\n",
    "                    \n",
    "                    batch_data[folder,idx,:,:,0] = (temp[:,:,0])  #normalise and feed in the image\n",
    "                    batch_data[folder,idx,:,:,1] = (temp[:,:,1])  #normalise and feed in the image\n",
    "                    batch_data[folder,idx,:,:,2] = (temp[:,:,2])  #normalise and feed in the image\n",
    "                    \n",
    "                batch_labels[folder, int(t[folder + (batch*batch_size)].strip().split(';')[2])] = 1\n",
    "            yield batch_data, batch_labels #you yield the batch_data and the batch_labels, remember what does yield do\n",
    "\n",
    "        \n",
    "        # write the code for the remaining data points which are left after full batches\n",
    "        if (len(folder_list) != batch_size*num_batches):\n",
    "            print(\"Batch: \",num_batches+1,\"Index:\", batch_size)\n",
    "            batch_size = len(folder_list) - (batch_size*num_batches)\n",
    "            batch_data = np.zeros((batch_size,x,y,z,channels)) # x is the number of images you use for each video, (y,z) is the final size of the input images and 3 is the number of channels RGB\n",
    "            batch_labels = np.zeros((batch_size,classes)) # batch_labels is the one hot representation of the output\n",
    "            for folder in range(batch_size): # iterate over the batch_size\n",
    "                imgs = os.listdir(source_path+'/'+ t[folder + (batch*batch_size)].split(';')[0]) # read all the images in the folder\n",
    "                for idx,item in enumerate(img_idx): #  Iterate iver the frames/images of a folder to read them in\n",
    "                    image = imread(source_path+'/'+ t[folder + (batch*batch_size)].strip().split(';')[0]+'/'+imgs[item]).astype(np.float32)\n",
    "                    \n",
    "                    #crop the images and resize them. Note that the images are of 2 different shape \n",
    "                    #and the conv3D will throw error if the inputs in a batch have different shapes\n",
    "                    temp = imresize(image,(y,z))\n",
    "                    temp = temp/255 #Normalize data\n",
    "                    \n",
    "                    batch_data[folder,idx,:,:,0] = (temp[:,:,0])\n",
    "                    batch_data[folder,idx,:,:,1] = (temp[:,:,1])\n",
    "                    batch_data[folder,idx,:,:,2] = (temp[:,:,2])\n",
    "                   \n",
    "                batch_labels[folder, int(t[folder + (batch*batch_size)].strip().split(';')[2])] = 1\n",
    "            yield batch_data, batch_labels\n"
   ]
  },
  {
   "cell_type": "code",
   "execution_count": 14,
   "metadata": {
    "id": "oGA483QfgpT9",
    "outputId": "b6f95314-9fb1-45cb-c7d8-05c5f7cc04e5"
   },
   "outputs": [
    {
     "name": "stdout",
     "output_type": "stream",
     "text": [
      "# training sequences = 663\n",
      "# validation sequences = 100\n",
      "# epochs = 10\n",
      "33\n"
     ]
    }
   ],
   "source": [
    "curr_dt_time = datetime.datetime.now()\n",
    "train_path = '/home/datasets/Project_data/train'\n",
    "val_path = '/home/datasets/Project_data/val'\n",
    "num_train_sequences = len(train_doc)\n",
    "print('# training sequences =', num_train_sequences)\n",
    "num_val_sequences = len(val_doc)\n",
    "print('# validation sequences =', num_val_sequences)\n",
    "num_epochs =   10  # choose the number of epochs\n",
    "print ('# epochs =', num_epochs)\n",
    "num_batches = num_train_sequences//batch_size \n",
    "print(num_batches)"
   ]
  },
  {
   "cell_type": "code",
   "execution_count": 15,
   "metadata": {
    "id": "lv5vbm3hgpT9"
   },
   "outputs": [],
   "source": [
    "#define model\n",
    "model_b = Sequential()\n",
    "model_b.add(Conv3D(16, kernel_size=(3, 3, 3), input_shape=(x,y,z,channels), padding='same'))\n",
    "model_b.add(Activation('relu'))\n",
    "model_b.add(BatchNormalization())\n",
    "model_b.add(MaxPooling3D(pool_size=(2, 2, 2)))\n",
    "\n",
    "model_b.add(Conv3D(32, kernel_size=(3,3,3), padding='same'))\n",
    "model_b.add(Activation('relu'))\n",
    "model_b.add(BatchNormalization())\n",
    "model_b.add(MaxPooling3D(pool_size=(2, 2, 2)))\n",
    "\n",
    "\n",
    "model_b.add(Conv3D(64, kernel_size=(3,3,3), padding='same'))\n",
    "model_b.add(Activation('relu'))\n",
    "model_b.add(BatchNormalization())\n",
    "model_b.add(MaxPooling3D(pool_size=(2, 2, 2)))\n",
    "\n",
    "model_b.add(Flatten())\n",
    "model_b.add(Dense(128, activation='relu'))\n",
    "model_b.add(Dropout(0.25))\n",
    "model_b.add(Dense(64, activation='relu'))\n",
    "model_b.add(Dropout(0.25))\n",
    "model_b.add(Dense(classes, activation='softmax'))"
   ]
  },
  {
   "cell_type": "code",
   "execution_count": 16,
   "metadata": {
    "id": "ZmrjZpzwgpT-",
    "outputId": "80c76eb2-74cc-4c33-a462-1780241ec23c"
   },
   "outputs": [
    {
     "name": "stdout",
     "output_type": "stream",
     "text": [
      "Model: \"sequential_1\"\n",
      "_________________________________________________________________\n",
      " Layer (type)                Output Shape              Param #   \n",
      "=================================================================\n",
      " conv3d_4 (Conv3D)           (None, 30, 60, 60, 16)    1312      \n",
      "                                                                 \n",
      " activation_4 (Activation)   (None, 30, 60, 60, 16)    0         \n",
      "                                                                 \n",
      " batch_normalization_4 (Batc  (None, 30, 60, 60, 16)   64        \n",
      " hNormalization)                                                 \n",
      "                                                                 \n",
      " max_pooling3d_3 (MaxPooling  (None, 15, 30, 30, 16)   0         \n",
      " 3D)                                                             \n",
      "                                                                 \n",
      " conv3d_5 (Conv3D)           (None, 15, 30, 30, 32)    13856     \n",
      "                                                                 \n",
      " activation_5 (Activation)   (None, 15, 30, 30, 32)    0         \n",
      "                                                                 \n",
      " batch_normalization_5 (Batc  (None, 15, 30, 30, 32)   128       \n",
      " hNormalization)                                                 \n",
      "                                                                 \n",
      " max_pooling3d_4 (MaxPooling  (None, 7, 15, 15, 32)    0         \n",
      " 3D)                                                             \n",
      "                                                                 \n",
      " conv3d_6 (Conv3D)           (None, 7, 15, 15, 64)     55360     \n",
      "                                                                 \n",
      " activation_6 (Activation)   (None, 7, 15, 15, 64)     0         \n",
      "                                                                 \n",
      " batch_normalization_6 (Batc  (None, 7, 15, 15, 64)    256       \n",
      " hNormalization)                                                 \n",
      "                                                                 \n",
      " max_pooling3d_5 (MaxPooling  (None, 3, 7, 7, 64)      0         \n",
      " 3D)                                                             \n",
      "                                                                 \n",
      " flatten_1 (Flatten)         (None, 9408)              0         \n",
      "                                                                 \n",
      " dense_2 (Dense)             (None, 128)               1204352   \n",
      "                                                                 \n",
      " dropout_1 (Dropout)         (None, 128)               0         \n",
      "                                                                 \n",
      " dense_3 (Dense)             (None, 64)                8256      \n",
      "                                                                 \n",
      " dropout_2 (Dropout)         (None, 64)                0         \n",
      "                                                                 \n",
      " dense_4 (Dense)             (None, 5)                 325       \n",
      "                                                                 \n",
      "=================================================================\n",
      "Total params: 1,283,909\n",
      "Trainable params: 1,283,685\n",
      "Non-trainable params: 224\n",
      "_________________________________________________________________\n",
      "None\n"
     ]
    }
   ],
   "source": [
    "optimiser = 'adam'\n",
    "model_b.compile(optimizer=optimiser, loss='categorical_crossentropy', metrics=['categorical_accuracy'])\n",
    "print (model_b.summary())"
   ]
  },
  {
   "cell_type": "code",
   "execution_count": 17,
   "metadata": {
    "id": "j7HMU4kKgpT-"
   },
   "outputs": [],
   "source": [
    "train_generator = generator(train_path, train_doc, batch_size)\n",
    "val_generator = generator(val_path, val_doc, batch_size)"
   ]
  },
  {
   "cell_type": "code",
   "execution_count": 18,
   "metadata": {
    "id": "V-E0DeXNgpT-",
    "outputId": "f546db7d-2cd7-4b3e-c727-eaf2d4d0cba9"
   },
   "outputs": [
    {
     "name": "stdout",
     "output_type": "stream",
     "text": [
      "WARNING:tensorflow:`period` argument is deprecated. Please use `save_freq` to specify the frequency in number of batches seen.\n"
     ]
    }
   ],
   "source": [
    "model_name = 'model_init' + '_' + str(curr_dt_time).replace(' ','').replace(':','_') + '/'\n",
    "    \n",
    "if not os.path.exists(model_name):\n",
    "    os.mkdir(model_name)\n",
    "        \n",
    "filepath = model_name + 'model-{epoch:05d}-{loss:.5f}-{categorical_accuracy:.5f}-{val_loss:.5f}-{val_categorical_accuracy:.5f}.h5'\n",
    "\n",
    "checkpoint = ModelCheckpoint(filepath, monitor='val_loss', verbose=1, save_best_only=False, save_weights_only=False, mode='auto', period=1)\n",
    "\n",
    "LR = ReduceLROnPlateau(monitor='val_loss', factor=0.2, patience=4, cooldown=1, verbose=1)# write the REducelronplateau code here\n",
    "earlystop = EarlyStopping(monitor=\"val_loss\", min_delta=0,patience=10,verbose=1)\n",
    "callbacks_list = [checkpoint, LR,earlystop]"
   ]
  },
  {
   "cell_type": "code",
   "execution_count": 19,
   "metadata": {
    "id": "5iAcUf96gpT_"
   },
   "outputs": [],
   "source": [
    "if (num_train_sequences%batch_size) == 0:\n",
    "    steps_per_epoch = int(num_train_sequences/batch_size)\n",
    "else:\n",
    "    steps_per_epoch = (num_train_sequences//batch_size) + 1\n",
    "\n",
    "if (num_val_sequences%batch_size) == 0:\n",
    "    validation_steps = int(num_val_sequences/batch_size)\n",
    "else:\n",
    "    validation_steps = (num_val_sequences//batch_size) + 1"
   ]
  },
  {
   "cell_type": "code",
   "execution_count": 20,
   "metadata": {
    "id": "EgEh8Q3tgpT_",
    "outputId": "baed67c7-4a48-4e07-8069-13210e56e028"
   },
   "outputs": [
    {
     "name": "stdout",
     "output_type": "stream",
     "text": [
      "Source path =  /home/datasets/Project_data/train ; batch size = 20\n",
      "Epoch 1/10\n",
      "32/34 [===========================>..] - ETA: 9s - loss: 2.3115 - categorical_accuracy: 0.2906 Batch:  34 Index: 20\n",
      "34/34 [==============================] - ETA: 0s - loss: 2.2857 - categorical_accuracy: 0.2941Source path =  /home/datasets/Project_data/val ; batch size = 20\n",
      "\n",
      "Epoch 00001: saving model to model_init_2022-05-1805_39_49.403993/model-00001-2.28567-0.29412-2.05829-0.23000.h5\n",
      "34/34 [==============================] - 190s 6s/step - loss: 2.2857 - categorical_accuracy: 0.2941 - val_loss: 2.0583 - val_categorical_accuracy: 0.2300 - lr: 0.0010\n",
      "Epoch 2/10\n",
      "34/34 [==============================] - ETA: 0s - loss: 2.5819 - categorical_accuracy: 0.2353\n",
      "Epoch 00002: saving model to model_init_2022-05-1805_39_49.403993/model-00002-2.58190-0.23529-2.79673-0.21000.h5\n",
      "34/34 [==============================] - 62s 2s/step - loss: 2.5819 - categorical_accuracy: 0.2353 - val_loss: 2.7967 - val_categorical_accuracy: 0.2100 - lr: 0.0010\n",
      "Epoch 3/10\n",
      "34/34 [==============================] - ETA: 0s - loss: 2.6365 - categorical_accuracy: 0.2941\n",
      "Epoch 00003: saving model to model_init_2022-05-1805_39_49.403993/model-00003-2.63648-0.29412-3.91691-0.20000.h5\n",
      "34/34 [==============================] - 57s 2s/step - loss: 2.6365 - categorical_accuracy: 0.2941 - val_loss: 3.9169 - val_categorical_accuracy: 0.2000 - lr: 0.0010\n",
      "Epoch 4/10\n",
      "34/34 [==============================] - ETA: 0s - loss: 2.9165 - categorical_accuracy: 0.2745\n",
      "Epoch 00004: saving model to model_init_2022-05-1805_39_49.403993/model-00004-2.91647-0.27451-9.33906-0.20000.h5\n",
      "34/34 [==============================] - 59s 2s/step - loss: 2.9165 - categorical_accuracy: 0.2745 - val_loss: 9.3391 - val_categorical_accuracy: 0.2000 - lr: 0.0010\n",
      "Epoch 5/10\n",
      "34/34 [==============================] - ETA: 0s - loss: 2.8581 - categorical_accuracy: 0.3137\n",
      "Epoch 00005: saving model to model_init_2022-05-1805_39_49.403993/model-00005-2.85812-0.31373-11.07872-0.22000.h5\n",
      "\n",
      "Epoch 00005: ReduceLROnPlateau reducing learning rate to 0.00020000000949949026.\n",
      "34/34 [==============================] - 62s 2s/step - loss: 2.8581 - categorical_accuracy: 0.3137 - val_loss: 11.0787 - val_categorical_accuracy: 0.2200 - lr: 0.0010\n",
      "Epoch 6/10\n",
      "34/34 [==============================] - ETA: 0s - loss: 2.7982 - categorical_accuracy: 0.2451\n",
      "Epoch 00006: saving model to model_init_2022-05-1805_39_49.403993/model-00006-2.79819-0.24510-11.89564-0.21000.h5\n",
      "34/34 [==============================] - 58s 2s/step - loss: 2.7982 - categorical_accuracy: 0.2451 - val_loss: 11.8956 - val_categorical_accuracy: 0.2100 - lr: 2.0000e-04\n",
      "Epoch 7/10\n",
      "34/34 [==============================] - ETA: 0s - loss: 2.5153 - categorical_accuracy: 0.2843\n",
      "Epoch 00007: saving model to model_init_2022-05-1805_39_49.403993/model-00007-2.51531-0.28431-12.84506-0.18000.h5\n",
      "34/34 [==============================] - 57s 2s/step - loss: 2.5153 - categorical_accuracy: 0.2843 - val_loss: 12.8451 - val_categorical_accuracy: 0.1800 - lr: 2.0000e-04\n",
      "Epoch 8/10\n",
      "34/34 [==============================] - ETA: 0s - loss: 2.3743 - categorical_accuracy: 0.2157\n",
      "Epoch 00008: saving model to model_init_2022-05-1805_39_49.403993/model-00008-2.37433-0.21569-12.11980-0.21000.h5\n",
      "34/34 [==============================] - 60s 2s/step - loss: 2.3743 - categorical_accuracy: 0.2157 - val_loss: 12.1198 - val_categorical_accuracy: 0.2100 - lr: 2.0000e-04\n",
      "Epoch 9/10\n",
      "34/34 [==============================] - ETA: 0s - loss: 1.8600 - categorical_accuracy: 0.3627\n",
      "Epoch 00009: saving model to model_init_2022-05-1805_39_49.403993/model-00009-1.85996-0.36275-11.27453-0.21000.h5\n",
      "\n",
      "Epoch 00009: ReduceLROnPlateau reducing learning rate to 4.0000001899898055e-05.\n",
      "34/34 [==============================] - 59s 2s/step - loss: 1.8600 - categorical_accuracy: 0.3627 - val_loss: 11.2745 - val_categorical_accuracy: 0.2100 - lr: 2.0000e-04\n",
      "Epoch 10/10\n",
      "34/34 [==============================] - ETA: 0s - loss: 1.6703 - categorical_accuracy: 0.3137\n",
      "Epoch 00010: saving model to model_init_2022-05-1805_39_49.403993/model-00010-1.67035-0.31373-11.03221-0.18000.h5\n",
      "34/34 [==============================] - 64s 2s/step - loss: 1.6703 - categorical_accuracy: 0.3137 - val_loss: 11.0322 - val_categorical_accuracy: 0.1800 - lr: 4.0000e-05\n"
     ]
    },
    {
     "data": {
      "text/plain": [
       "<keras.callbacks.History at 0x7fd7c52a0310>"
      ]
     },
     "execution_count": 20,
     "metadata": {},
     "output_type": "execute_result"
    }
   ],
   "source": [
    "model_b.fit(train_generator, steps_per_epoch=steps_per_epoch, epochs=num_epochs, verbose=1, \n",
    "                    callbacks=callbacks_list, validation_data=val_generator, \n",
    "                    validation_steps=validation_steps, class_weight=None, workers=1, initial_epoch=0)"
   ]
  },
  {
   "cell_type": "markdown",
   "metadata": {
    "id": "z5q1RueigpUA"
   },
   "source": [
    "#### Exp-3 :adding more layers and increase the no of epochs to 15"
   ]
  },
  {
   "cell_type": "code",
   "execution_count": 21,
   "metadata": {
    "id": "I0Ak3OdJgpUA"
   },
   "outputs": [],
   "source": [
    "x = 30 # number of frames\n",
    "y = 60 # image width\n",
    "z = 60 # image height\n",
    "\n",
    "batch_size=20\n",
    "num_epochs=15"
   ]
  },
  {
   "cell_type": "code",
   "execution_count": 22,
   "metadata": {
    "id": "fhfxN9pggpUA"
   },
   "outputs": [],
   "source": [
    "model_b1 = Sequential()\n",
    "model_b1.add(Conv3D(16, kernel_size=(3, 3, 3), input_shape=(x,y,z,channels), padding='same'))\n",
    "model_b1.add(Activation('relu'))\n",
    "model_b1.add(BatchNormalization())\n",
    "\n",
    "model_b1.add(Conv3D(16, kernel_size=(3, 3, 3), input_shape=(x,y,z,channels), padding='same'))\n",
    "model_b1.add(Activation('relu'))\n",
    "model_b1.add(BatchNormalization())\n",
    "\n",
    "model_b1.add(MaxPooling3D(pool_size=(2, 2, 2)))\n",
    "\n",
    "model_b1.add(Conv3D(32, kernel_size=(3,3,3), padding='same'))\n",
    "model_b1.add(Activation('relu'))\n",
    "model_b1.add(BatchNormalization())\n",
    "\n",
    "model_b1.add(Conv3D(32, kernel_size=(3,3,3), padding='same'))\n",
    "model_b1.add(Activation('relu'))\n",
    "model_b1.add(BatchNormalization())\n",
    "\n",
    "model_b1.add(MaxPooling3D(pool_size=(2, 2, 2)))\n",
    "\n",
    "\n",
    "model_b1.add(Conv3D(64, kernel_size=(3,3,3), padding='same'))\n",
    "model_b1.add(Activation('relu'))\n",
    "model_b1.add(BatchNormalization())\n",
    "\n",
    "model_b1.add(Conv3D(64, kernel_size=(3,3,3), padding='same'))\n",
    "model_b1.add(Activation('relu'))\n",
    "model_b1.add(BatchNormalization())\n",
    "\n",
    "model_b1.add(MaxPooling3D(pool_size=(2, 2, 2)))\n",
    "\n",
    "model_b1.add(Flatten())\n",
    "model_b1.add(Dense(128, activation='relu'))\n",
    "model_b1.add(Dropout(0.25))\n",
    "model_b1.add(Dense(64, activation='relu'))\n",
    "model_b1.add(Dropout(0.25))\n",
    "model_b1.add(Dense(classes, activation='softmax'))"
   ]
  },
  {
   "cell_type": "code",
   "execution_count": 23,
   "metadata": {
    "id": "3FszxBlhgpUB",
    "outputId": "a5ffe6a0-1247-4c4d-a0a9-6c48209736b5"
   },
   "outputs": [
    {
     "name": "stdout",
     "output_type": "stream",
     "text": [
      "Model: \"sequential_2\"\n",
      "_________________________________________________________________\n",
      " Layer (type)                Output Shape              Param #   \n",
      "=================================================================\n",
      " conv3d_7 (Conv3D)           (None, 30, 60, 60, 16)    1312      \n",
      "                                                                 \n",
      " activation_7 (Activation)   (None, 30, 60, 60, 16)    0         \n",
      "                                                                 \n",
      " batch_normalization_7 (Batc  (None, 30, 60, 60, 16)   64        \n",
      " hNormalization)                                                 \n",
      "                                                                 \n",
      " conv3d_8 (Conv3D)           (None, 30, 60, 60, 16)    6928      \n",
      "                                                                 \n",
      " activation_8 (Activation)   (None, 30, 60, 60, 16)    0         \n",
      "                                                                 \n",
      " batch_normalization_8 (Batc  (None, 30, 60, 60, 16)   64        \n",
      " hNormalization)                                                 \n",
      "                                                                 \n",
      " max_pooling3d_6 (MaxPooling  (None, 15, 30, 30, 16)   0         \n",
      " 3D)                                                             \n",
      "                                                                 \n",
      " conv3d_9 (Conv3D)           (None, 15, 30, 30, 32)    13856     \n",
      "                                                                 \n",
      " activation_9 (Activation)   (None, 15, 30, 30, 32)    0         \n",
      "                                                                 \n",
      " batch_normalization_9 (Batc  (None, 15, 30, 30, 32)   128       \n",
      " hNormalization)                                                 \n",
      "                                                                 \n",
      " conv3d_10 (Conv3D)          (None, 15, 30, 30, 32)    27680     \n",
      "                                                                 \n",
      " activation_10 (Activation)  (None, 15, 30, 30, 32)    0         \n",
      "                                                                 \n",
      " batch_normalization_10 (Bat  (None, 15, 30, 30, 32)   128       \n",
      " chNormalization)                                                \n",
      "                                                                 \n",
      " max_pooling3d_7 (MaxPooling  (None, 7, 15, 15, 32)    0         \n",
      " 3D)                                                             \n",
      "                                                                 \n",
      " conv3d_11 (Conv3D)          (None, 7, 15, 15, 64)     55360     \n",
      "                                                                 \n",
      " activation_11 (Activation)  (None, 7, 15, 15, 64)     0         \n",
      "                                                                 \n",
      " batch_normalization_11 (Bat  (None, 7, 15, 15, 64)    256       \n",
      " chNormalization)                                                \n",
      "                                                                 \n",
      " conv3d_12 (Conv3D)          (None, 7, 15, 15, 64)     110656    \n",
      "                                                                 \n",
      " activation_12 (Activation)  (None, 7, 15, 15, 64)     0         \n",
      "                                                                 \n",
      " batch_normalization_12 (Bat  (None, 7, 15, 15, 64)    256       \n",
      " chNormalization)                                                \n",
      "                                                                 \n",
      " max_pooling3d_8 (MaxPooling  (None, 3, 7, 7, 64)      0         \n",
      " 3D)                                                             \n",
      "                                                                 \n",
      " flatten_2 (Flatten)         (None, 9408)              0         \n",
      "                                                                 \n",
      " dense_5 (Dense)             (None, 128)               1204352   \n",
      "                                                                 \n",
      " dropout_3 (Dropout)         (None, 128)               0         \n",
      "                                                                 \n",
      " dense_6 (Dense)             (None, 64)                8256      \n",
      "                                                                 \n",
      " dropout_4 (Dropout)         (None, 64)                0         \n",
      "                                                                 \n",
      " dense_7 (Dense)             (None, 5)                 325       \n",
      "                                                                 \n",
      "=================================================================\n",
      "Total params: 1,429,621\n",
      "Trainable params: 1,429,173\n",
      "Non-trainable params: 448\n",
      "_________________________________________________________________\n",
      "None\n"
     ]
    }
   ],
   "source": [
    "optimiser = 'adam'\n",
    "model_b1.compile(optimizer=optimiser, loss='categorical_crossentropy', metrics=['categorical_accuracy'])\n",
    "print (model_b1.summary())"
   ]
  },
  {
   "cell_type": "code",
   "execution_count": 24,
   "metadata": {
    "id": "FjfRwiEEgpUB"
   },
   "outputs": [],
   "source": [
    "train_generator = generator(train_path, train_doc, batch_size)\n",
    "val_generator = generator(val_path, val_doc, batch_size)"
   ]
  },
  {
   "cell_type": "code",
   "execution_count": 25,
   "metadata": {
    "id": "FvcarDnLgpUB"
   },
   "outputs": [],
   "source": [
    "if (num_train_sequences%batch_size) == 0:\n",
    "    steps_per_epoch = int(num_train_sequences/batch_size)\n",
    "else:\n",
    "    steps_per_epoch = (num_train_sequences//batch_size) + 1\n",
    "\n",
    "if (num_val_sequences%batch_size) == 0:\n",
    "    validation_steps = int(num_val_sequences/batch_size)\n",
    "else:\n",
    "    validation_steps = (num_val_sequences//batch_size) + 1"
   ]
  },
  {
   "cell_type": "code",
   "execution_count": 26,
   "metadata": {
    "id": "uPsKEHq9gpUC",
    "outputId": "765cc21d-2b3b-4585-bc5c-bdb74d1e6f66"
   },
   "outputs": [
    {
     "name": "stdout",
     "output_type": "stream",
     "text": [
      "Source path =  /home/datasets/Project_data/train ; batch size = 20\n",
      "Epoch 1/15\n",
      "32/34 [===========================>..] - ETA: 9s - loss: 2.6227 - categorical_accuracy: 0.3063 Batch:  34 Index: 20\n",
      "34/34 [==============================] - ETA: 0s - loss: 2.5895 - categorical_accuracy: 0.3092Source path =  /home/datasets/Project_data/val ; batch size = 20\n",
      "\n",
      "Epoch 00001: saving model to model_init_2022-05-1805_39_49.403993/model-00001-2.58950-0.30920-2.14031-0.21000.h5\n",
      "34/34 [==============================] - 189s 6s/step - loss: 2.5895 - categorical_accuracy: 0.3092 - val_loss: 2.1403 - val_categorical_accuracy: 0.2100 - lr: 0.0010\n",
      "Epoch 2/15\n",
      "34/34 [==============================] - ETA: 0s - loss: 2.4839 - categorical_accuracy: 0.2843\n",
      "Epoch 00002: saving model to model_init_2022-05-1805_39_49.403993/model-00002-2.48388-0.28431-2.68283-0.21000.h5\n",
      "34/34 [==============================] - 63s 2s/step - loss: 2.4839 - categorical_accuracy: 0.2843 - val_loss: 2.6828 - val_categorical_accuracy: 0.2100 - lr: 0.0010\n",
      "Epoch 3/15\n",
      "34/34 [==============================] - ETA: 0s - loss: 2.6395 - categorical_accuracy: 0.2941\n",
      "Epoch 00003: saving model to model_init_2022-05-1805_39_49.403993/model-00003-2.63949-0.29412-2.56606-0.18000.h5\n",
      "34/34 [==============================] - 58s 2s/step - loss: 2.6395 - categorical_accuracy: 0.2941 - val_loss: 2.5661 - val_categorical_accuracy: 0.1800 - lr: 0.0010\n",
      "Epoch 4/15\n",
      "34/34 [==============================] - ETA: 0s - loss: 2.2154 - categorical_accuracy: 0.3039\n",
      "Epoch 00004: saving model to model_init_2022-05-1805_39_49.403993/model-00004-2.21537-0.30392-3.28235-0.19000.h5\n",
      "34/34 [==============================] - 62s 2s/step - loss: 2.2154 - categorical_accuracy: 0.3039 - val_loss: 3.2823 - val_categorical_accuracy: 0.1900 - lr: 0.0010\n",
      "Epoch 5/15\n",
      "34/34 [==============================] - ETA: 0s - loss: 2.3608 - categorical_accuracy: 0.3431\n",
      "Epoch 00005: saving model to model_init_2022-05-1805_39_49.403993/model-00005-2.36080-0.34314-3.64101-0.18000.h5\n",
      "\n",
      "Epoch 00005: ReduceLROnPlateau reducing learning rate to 0.00020000000949949026.\n",
      "34/34 [==============================] - 62s 2s/step - loss: 2.3608 - categorical_accuracy: 0.3431 - val_loss: 3.6410 - val_categorical_accuracy: 0.1800 - lr: 0.0010\n",
      "Epoch 6/15\n",
      "34/34 [==============================] - ETA: 0s - loss: 2.2586 - categorical_accuracy: 0.3039\n",
      "Epoch 00006: saving model to model_init_2022-05-1805_39_49.403993/model-00006-2.25862-0.30392-1.99276-0.22000.h5\n",
      "34/34 [==============================] - 62s 2s/step - loss: 2.2586 - categorical_accuracy: 0.3039 - val_loss: 1.9928 - val_categorical_accuracy: 0.2200 - lr: 2.0000e-04\n",
      "Epoch 7/15\n",
      "34/34 [==============================] - ETA: 0s - loss: 1.9164 - categorical_accuracy: 0.2843\n",
      "Epoch 00007: saving model to model_init_2022-05-1805_39_49.403993/model-00007-1.91639-0.28431-1.86953-0.24000.h5\n",
      "34/34 [==============================] - 63s 2s/step - loss: 1.9164 - categorical_accuracy: 0.2843 - val_loss: 1.8695 - val_categorical_accuracy: 0.2400 - lr: 2.0000e-04\n",
      "Epoch 8/15\n",
      "34/34 [==============================] - ETA: 0s - loss: 1.7125 - categorical_accuracy: 0.3235\n",
      "Epoch 00008: saving model to model_init_2022-05-1805_39_49.403993/model-00008-1.71248-0.32353-1.75392-0.25000.h5\n",
      "34/34 [==============================] - 57s 2s/step - loss: 1.7125 - categorical_accuracy: 0.3235 - val_loss: 1.7539 - val_categorical_accuracy: 0.2500 - lr: 2.0000e-04\n",
      "Epoch 9/15\n",
      "34/34 [==============================] - ETA: 0s - loss: 1.4507 - categorical_accuracy: 0.3627\n",
      "Epoch 00009: saving model to model_init_2022-05-1805_39_49.403993/model-00009-1.45068-0.36275-1.90602-0.17000.h5\n",
      "34/34 [==============================] - 59s 2s/step - loss: 1.4507 - categorical_accuracy: 0.3627 - val_loss: 1.9060 - val_categorical_accuracy: 0.1700 - lr: 2.0000e-04\n",
      "Epoch 10/15\n",
      "34/34 [==============================] - ETA: 0s - loss: 1.6005 - categorical_accuracy: 0.4020\n",
      "Epoch 00010: saving model to model_init_2022-05-1805_39_49.403993/model-00010-1.60054-0.40196-2.21214-0.16000.h5\n",
      "34/34 [==============================] - 62s 2s/step - loss: 1.6005 - categorical_accuracy: 0.4020 - val_loss: 2.2121 - val_categorical_accuracy: 0.1600 - lr: 2.0000e-04\n",
      "Epoch 11/15\n",
      "34/34 [==============================] - ETA: 0s - loss: 1.5120 - categorical_accuracy: 0.3137\n",
      "Epoch 00011: saving model to model_init_2022-05-1805_39_49.403993/model-00011-1.51200-0.31373-2.14140-0.18000.h5\n",
      "34/34 [==============================] - 60s 2s/step - loss: 1.5120 - categorical_accuracy: 0.3137 - val_loss: 2.1414 - val_categorical_accuracy: 0.1800 - lr: 2.0000e-04\n",
      "Epoch 12/15\n",
      "34/34 [==============================] - ETA: 0s - loss: 1.8422 - categorical_accuracy: 0.2647\n",
      "Epoch 00012: saving model to model_init_2022-05-1805_39_49.403993/model-00012-1.84222-0.26471-2.04805-0.14000.h5\n",
      "\n",
      "Epoch 00012: ReduceLROnPlateau reducing learning rate to 4.0000001899898055e-05.\n",
      "34/34 [==============================] - 62s 2s/step - loss: 1.8422 - categorical_accuracy: 0.2647 - val_loss: 2.0481 - val_categorical_accuracy: 0.1400 - lr: 2.0000e-04\n",
      "Epoch 13/15\n",
      "34/34 [==============================] - ETA: 0s - loss: 1.5894 - categorical_accuracy: 0.3627\n",
      "Epoch 00013: saving model to model_init_2022-05-1805_39_49.403993/model-00013-1.58936-0.36275-1.84939-0.17000.h5\n",
      "34/34 [==============================] - 62s 2s/step - loss: 1.5894 - categorical_accuracy: 0.3627 - val_loss: 1.8494 - val_categorical_accuracy: 0.1700 - lr: 4.0000e-05\n",
      "Epoch 14/15\n",
      "34/34 [==============================] - ETA: 0s - loss: 1.4267 - categorical_accuracy: 0.3333\n",
      "Epoch 00014: saving model to model_init_2022-05-1805_39_49.403993/model-00014-1.42673-0.33333-1.89118-0.20000.h5\n",
      "34/34 [==============================] - 62s 2s/step - loss: 1.4267 - categorical_accuracy: 0.3333 - val_loss: 1.8912 - val_categorical_accuracy: 0.2000 - lr: 4.0000e-05\n",
      "Epoch 15/15\n",
      "34/34 [==============================] - ETA: 0s - loss: 1.4878 - categorical_accuracy: 0.3627\n",
      "Epoch 00015: saving model to model_init_2022-05-1805_39_49.403993/model-00015-1.48783-0.36275-1.90344-0.16000.h5\n",
      "34/34 [==============================] - 57s 2s/step - loss: 1.4878 - categorical_accuracy: 0.3627 - val_loss: 1.9034 - val_categorical_accuracy: 0.1600 - lr: 4.0000e-05\n"
     ]
    },
    {
     "data": {
      "text/plain": [
       "<keras.callbacks.History at 0x7fd7df8c13d0>"
      ]
     },
     "execution_count": 26,
     "metadata": {},
     "output_type": "execute_result"
    }
   ],
   "source": [
    "model_b1.fit(train_generator, steps_per_epoch=steps_per_epoch, epochs=num_epochs, verbose=1, \n",
    "                    callbacks=callbacks_list, validation_data=val_generator, \n",
    "                    validation_steps=validation_steps, class_weight=None, workers=1, initial_epoch=0)"
   ]
  },
  {
   "cell_type": "markdown",
   "metadata": {
    "id": "x_3vQ4HKgpUC"
   },
   "source": [
    "From exp-2 and exp-3 there is very small change in training and validation accuracy even though we increase the no of layers and no of epochs.We can see the model is more impacted by image resolution,batch size and no of frames."
   ]
  },
  {
   "cell_type": "markdown",
   "metadata": {
    "id": "PNPrtAPOgpUC"
   },
   "source": [
    "#### Exp 4:change the image resolution to 80x80  ,with frames=30 and  by keeping batchsize=10 and epochs=20"
   ]
  },
  {
   "cell_type": "code",
   "execution_count": 21,
   "metadata": {
    "id": "drcRT7hpgpUD"
   },
   "outputs": [],
   "source": [
    "x = 30 # number of frames\n",
    "y = 80 # image width\n",
    "z = 80 # image height\n",
    "\n",
    "batch_size=10\n",
    "num_epochs=20"
   ]
  },
  {
   "cell_type": "code",
   "execution_count": 22,
   "metadata": {
    "id": "vSLVln7_gpUD"
   },
   "outputs": [],
   "source": [
    "model_b2 = Sequential()\n",
    "model_b2.add(Conv3D(8, kernel_size=(3, 3, 3), input_shape=(x,y,z,channels), padding='same'))\n",
    "model_b2.add(Activation('relu'))\n",
    "model_b2.add(BatchNormalization())\n",
    "\n",
    "\n",
    "\n",
    "model_b2.add(MaxPooling3D(pool_size=(2, 2, 2)))\n",
    "\n",
    "\n",
    "model_b2.add(Conv3D(16, kernel_size=(3,3,3), padding='same'))\n",
    "model_b2.add(Activation('relu'))\n",
    "model_b2.add(BatchNormalization())\n",
    "\n",
    "model_b2.add(MaxPooling3D(pool_size=(2, 2, 2)))\n",
    "\n",
    "\n",
    "model_b2.add(Conv3D(32, kernel_size=(3,3,3), padding='same'))\n",
    "model_b2.add(Activation('relu'))\n",
    "model_b2.add(BatchNormalization())\n",
    "\n",
    "model_b2.add(MaxPooling3D(pool_size=(2, 2, 2)))\n",
    "\n",
    "model_b2.add(Conv3D(64, kernel_size=(3,3,3), padding='same'))\n",
    "model_b2.add(Activation('relu'))\n",
    "model_b2.add(BatchNormalization())\n",
    "\n",
    "model_b2.add(MaxPooling3D(pool_size=(2, 2, 2)))\n",
    "\n",
    "\n",
    "model_b2.add(Flatten())\n",
    "model_b2.add(Dense(1000, activation='relu'))\n",
    "model_b2.add(Dropout(0.5))\n",
    "model_b2.add(Dense(500, activation='relu'))\n",
    "model_b2.add(Dropout(0.5))\n",
    "model_b2.add(Dense(classes, activation='softmax'))"
   ]
  },
  {
   "cell_type": "code",
   "execution_count": 23,
   "metadata": {
    "id": "uLsy8wd-gpUD",
    "outputId": "3918c7e0-4e0d-49d7-bd52-6a063d8fd123"
   },
   "outputs": [
    {
     "name": "stdout",
     "output_type": "stream",
     "text": [
      "Model: \"sequential_1\"\n",
      "_________________________________________________________________\n",
      " Layer (type)                Output Shape              Param #   \n",
      "=================================================================\n",
      " conv3d_4 (Conv3D)           (None, 30, 80, 80, 8)     656       \n",
      "                                                                 \n",
      " activation_4 (Activation)   (None, 30, 80, 80, 8)     0         \n",
      "                                                                 \n",
      " batch_normalization_4 (Batc  (None, 30, 80, 80, 8)    32        \n",
      " hNormalization)                                                 \n",
      "                                                                 \n",
      " max_pooling3d_3 (MaxPooling  (None, 15, 40, 40, 8)    0         \n",
      " 3D)                                                             \n",
      "                                                                 \n",
      " conv3d_5 (Conv3D)           (None, 15, 40, 40, 16)    3472      \n",
      "                                                                 \n",
      " activation_5 (Activation)   (None, 15, 40, 40, 16)    0         \n",
      "                                                                 \n",
      " batch_normalization_5 (Batc  (None, 15, 40, 40, 16)   64        \n",
      " hNormalization)                                                 \n",
      "                                                                 \n",
      " max_pooling3d_4 (MaxPooling  (None, 7, 20, 20, 16)    0         \n",
      " 3D)                                                             \n",
      "                                                                 \n",
      " conv3d_6 (Conv3D)           (None, 7, 20, 20, 32)     13856     \n",
      "                                                                 \n",
      " activation_6 (Activation)   (None, 7, 20, 20, 32)     0         \n",
      "                                                                 \n",
      " batch_normalization_6 (Batc  (None, 7, 20, 20, 32)    128       \n",
      " hNormalization)                                                 \n",
      "                                                                 \n",
      " max_pooling3d_5 (MaxPooling  (None, 3, 10, 10, 32)    0         \n",
      " 3D)                                                             \n",
      "                                                                 \n",
      " conv3d_7 (Conv3D)           (None, 3, 10, 10, 64)     55360     \n",
      "                                                                 \n",
      " activation_7 (Activation)   (None, 3, 10, 10, 64)     0         \n",
      "                                                                 \n",
      " batch_normalization_7 (Batc  (None, 3, 10, 10, 64)    256       \n",
      " hNormalization)                                                 \n",
      "                                                                 \n",
      " max_pooling3d_6 (MaxPooling  (None, 1, 5, 5, 64)      0         \n",
      " 3D)                                                             \n",
      "                                                                 \n",
      " flatten_1 (Flatten)         (None, 1600)              0         \n",
      "                                                                 \n",
      " dense_2 (Dense)             (None, 1000)              1601000   \n",
      "                                                                 \n",
      " dropout_1 (Dropout)         (None, 1000)              0         \n",
      "                                                                 \n",
      " dense_3 (Dense)             (None, 500)               500500    \n",
      "                                                                 \n",
      " dropout_2 (Dropout)         (None, 500)               0         \n",
      "                                                                 \n",
      " dense_4 (Dense)             (None, 5)                 2505      \n",
      "                                                                 \n",
      "=================================================================\n",
      "Total params: 2,177,829\n",
      "Trainable params: 2,177,589\n",
      "Non-trainable params: 240\n",
      "_________________________________________________________________\n",
      "None\n"
     ]
    }
   ],
   "source": [
    "optimiser = 'adam'\n",
    "model_b2.compile(optimizer=optimiser, loss='categorical_crossentropy', metrics=['categorical_accuracy'])\n",
    "print (model_b2.summary())"
   ]
  },
  {
   "cell_type": "code",
   "execution_count": 24,
   "metadata": {
    "id": "zkMYnm6ggpUD"
   },
   "outputs": [],
   "source": [
    "train_generator = generator(train_path, train_doc, batch_size)\n",
    "val_generator = generator(val_path, val_doc, batch_size)"
   ]
  },
  {
   "cell_type": "code",
   "execution_count": 25,
   "metadata": {
    "id": "wZJqHUFIgpUE"
   },
   "outputs": [],
   "source": [
    "if (num_train_sequences%batch_size) == 0:\n",
    "    steps_per_epoch = int(num_train_sequences/batch_size)\n",
    "else:\n",
    "    steps_per_epoch = (num_train_sequences//batch_size) + 1\n",
    "\n",
    "if (num_val_sequences%batch_size) == 0:\n",
    "    validation_steps = int(num_val_sequences/batch_size)\n",
    "else:\n",
    "    validation_steps = (num_val_sequences//batch_size) + 1"
   ]
  },
  {
   "cell_type": "code",
   "execution_count": 32,
   "metadata": {
    "id": "Ae180TKtgpUE",
    "outputId": "e0e9cf51-94a1-42a4-d78a-3b792106d072"
   },
   "outputs": [
    {
     "name": "stdout",
     "output_type": "stream",
     "text": [
      "Source path =  /home/datasets/Project_data/train ; batch size = 10\n",
      "Epoch 1/20\n",
      "65/67 [============================>.] - ETA: 4s - loss: 3.2895 - categorical_accuracy: 0.2954Batch:  67 Index: 10\n",
      "67/67 [==============================] - ETA: 0s - loss: 3.2698 - categorical_accuracy: 0.2941Source path =  /home/datasets/Project_data/val ; batch size = 10\n",
      "\n",
      "Epoch 00001: saving model to model_init_2022-05-1805_39_49.403993/model-00001-3.26976-0.29412-4.54848-0.16000.h5\n",
      "67/67 [==============================] - 189s 3s/step - loss: 3.2698 - categorical_accuracy: 0.2941 - val_loss: 4.5485 - val_categorical_accuracy: 0.1600 - lr: 0.0010\n",
      "Epoch 2/20\n",
      "67/67 [==============================] - ETA: 0s - loss: 2.1113 - categorical_accuracy: 0.3483\n",
      "Epoch 00002: saving model to model_init_2022-05-1805_39_49.403993/model-00002-2.11131-0.34826-5.95769-0.16000.h5\n",
      "67/67 [==============================] - 76s 1s/step - loss: 2.1113 - categorical_accuracy: 0.3483 - val_loss: 5.9577 - val_categorical_accuracy: 0.1600 - lr: 0.0010\n",
      "Epoch 3/20\n",
      "67/67 [==============================] - ETA: 0s - loss: 2.1355 - categorical_accuracy: 0.3483\n",
      "Epoch 00003: saving model to model_init_2022-05-1805_39_49.403993/model-00003-2.13548-0.34826-5.81476-0.25000.h5\n",
      "67/67 [==============================] - 78s 1s/step - loss: 2.1355 - categorical_accuracy: 0.3483 - val_loss: 5.8148 - val_categorical_accuracy: 0.2500 - lr: 0.0010\n",
      "Epoch 4/20\n",
      "67/67 [==============================] - ETA: 0s - loss: 1.8202 - categorical_accuracy: 0.3532\n",
      "Epoch 00004: saving model to model_init_2022-05-1805_39_49.403993/model-00004-1.82019-0.35323-8.26873-0.16000.h5\n",
      "67/67 [==============================] - 85s 1s/step - loss: 1.8202 - categorical_accuracy: 0.3532 - val_loss: 8.2687 - val_categorical_accuracy: 0.1600 - lr: 0.0010\n",
      "Epoch 5/20\n",
      "67/67 [==============================] - ETA: 0s - loss: 1.5760 - categorical_accuracy: 0.4179\n",
      "Epoch 00005: saving model to model_init_2022-05-1805_39_49.403993/model-00005-1.57601-0.41791-7.50556-0.21000.h5\n",
      "\n",
      "Epoch 00005: ReduceLROnPlateau reducing learning rate to 0.00020000000949949026.\n",
      "67/67 [==============================] - 79s 1s/step - loss: 1.5760 - categorical_accuracy: 0.4179 - val_loss: 7.5056 - val_categorical_accuracy: 0.2100 - lr: 0.0010\n",
      "Epoch 6/20\n",
      "67/67 [==============================] - ETA: 0s - loss: 1.3472 - categorical_accuracy: 0.4876\n",
      "Epoch 00006: saving model to model_init_2022-05-1805_39_49.403993/model-00006-1.34718-0.48756-7.50712-0.21000.h5\n",
      "67/67 [==============================] - 78s 1s/step - loss: 1.3472 - categorical_accuracy: 0.4876 - val_loss: 7.5071 - val_categorical_accuracy: 0.2100 - lr: 2.0000e-04\n",
      "Epoch 7/20\n",
      "67/67 [==============================] - ETA: 0s - loss: 1.1523 - categorical_accuracy: 0.5174\n",
      "Epoch 00007: saving model to model_init_2022-05-1805_39_49.403993/model-00007-1.15227-0.51741-8.06558-0.22000.h5\n",
      "67/67 [==============================] - 79s 1s/step - loss: 1.1523 - categorical_accuracy: 0.5174 - val_loss: 8.0656 - val_categorical_accuracy: 0.2200 - lr: 2.0000e-04\n",
      "Epoch 8/20\n",
      "67/67 [==============================] - ETA: 0s - loss: 1.1780 - categorical_accuracy: 0.5124\n",
      "Epoch 00008: saving model to model_init_2022-05-1805_39_49.403993/model-00008-1.17797-0.51244-6.21036-0.19000.h5\n",
      "67/67 [==============================] - 80s 1s/step - loss: 1.1780 - categorical_accuracy: 0.5124 - val_loss: 6.2104 - val_categorical_accuracy: 0.1900 - lr: 2.0000e-04\n",
      "Epoch 9/20\n",
      "67/67 [==============================] - ETA: 0s - loss: 0.9231 - categorical_accuracy: 0.6368\n",
      "Epoch 00009: saving model to model_init_2022-05-1805_39_49.403993/model-00009-0.92314-0.63682-6.73678-0.21000.h5\n",
      "\n",
      "Epoch 00009: ReduceLROnPlateau reducing learning rate to 4.0000001899898055e-05.\n",
      "67/67 [==============================] - 76s 1s/step - loss: 0.9231 - categorical_accuracy: 0.6368 - val_loss: 6.7368 - val_categorical_accuracy: 0.2100 - lr: 2.0000e-04\n",
      "Epoch 10/20\n",
      "67/67 [==============================] - ETA: 0s - loss: 1.0015 - categorical_accuracy: 0.5920\n",
      "Epoch 00010: saving model to model_init_2022-05-1805_39_49.403993/model-00010-1.00154-0.59204-3.21200-0.34000.h5\n",
      "67/67 [==============================] - 78s 1s/step - loss: 1.0015 - categorical_accuracy: 0.5920 - val_loss: 3.2120 - val_categorical_accuracy: 0.3400 - lr: 4.0000e-05\n",
      "Epoch 11/20\n",
      "67/67 [==============================] - ETA: 0s - loss: 0.9468 - categorical_accuracy: 0.6368\n",
      "Epoch 00011: saving model to model_init_2022-05-1805_39_49.403993/model-00011-0.94684-0.63682-1.70608-0.39000.h5\n",
      "67/67 [==============================] - 80s 1s/step - loss: 0.9468 - categorical_accuracy: 0.6368 - val_loss: 1.7061 - val_categorical_accuracy: 0.3900 - lr: 4.0000e-05\n",
      "Epoch 12/20\n",
      "67/67 [==============================] - ETA: 0s - loss: 0.9923 - categorical_accuracy: 0.5821\n",
      "Epoch 00012: saving model to model_init_2022-05-1805_39_49.403993/model-00012-0.99233-0.58209-1.07414-0.58000.h5\n",
      "67/67 [==============================] - 78s 1s/step - loss: 0.9923 - categorical_accuracy: 0.5821 - val_loss: 1.0741 - val_categorical_accuracy: 0.5800 - lr: 4.0000e-05\n",
      "Epoch 13/20\n",
      "67/67 [==============================] - ETA: 0s - loss: 0.7582 - categorical_accuracy: 0.7363\n",
      "Epoch 00013: saving model to model_init_2022-05-1805_39_49.403993/model-00013-0.75817-0.73632-0.81360-0.74000.h5\n",
      "67/67 [==============================] - 78s 1s/step - loss: 0.7582 - categorical_accuracy: 0.7363 - val_loss: 0.8136 - val_categorical_accuracy: 0.7400 - lr: 4.0000e-05\n",
      "Epoch 14/20\n",
      "67/67 [==============================] - ETA: 0s - loss: 0.9003 - categorical_accuracy: 0.6219\n",
      "Epoch 00014: saving model to model_init_2022-05-1805_39_49.403993/model-00014-0.90033-0.62189-0.81711-0.71000.h5\n",
      "67/67 [==============================] - 77s 1s/step - loss: 0.9003 - categorical_accuracy: 0.6219 - val_loss: 0.8171 - val_categorical_accuracy: 0.7100 - lr: 4.0000e-05\n",
      "Epoch 15/20\n",
      "67/67 [==============================] - ETA: 0s - loss: 0.7750 - categorical_accuracy: 0.6915\n",
      "Epoch 00015: saving model to model_init_2022-05-1805_39_49.403993/model-00015-0.77496-0.69154-0.88902-0.76000.h5\n",
      "67/67 [==============================] - 80s 1s/step - loss: 0.7750 - categorical_accuracy: 0.6915 - val_loss: 0.8890 - val_categorical_accuracy: 0.7600 - lr: 4.0000e-05\n",
      "Epoch 16/20\n",
      "67/67 [==============================] - ETA: 0s - loss: 0.7440 - categorical_accuracy: 0.7363\n",
      "Epoch 00016: saving model to model_init_2022-05-1805_39_49.403993/model-00016-0.74401-0.73632-0.73281-0.79000.h5\n",
      "67/67 [==============================] - 77s 1s/step - loss: 0.7440 - categorical_accuracy: 0.7363 - val_loss: 0.7328 - val_categorical_accuracy: 0.7900 - lr: 4.0000e-05\n",
      "Epoch 17/20\n",
      "67/67 [==============================] - ETA: 0s - loss: 0.7699 - categorical_accuracy: 0.7114\n",
      "Epoch 00017: saving model to model_init_2022-05-1805_39_49.403993/model-00017-0.76988-0.71144-0.72905-0.72000.h5\n",
      "67/67 [==============================] - 76s 1s/step - loss: 0.7699 - categorical_accuracy: 0.7114 - val_loss: 0.7290 - val_categorical_accuracy: 0.7200 - lr: 4.0000e-05\n",
      "Epoch 18/20\n",
      "67/67 [==============================] - ETA: 0s - loss: 0.7790 - categorical_accuracy: 0.6965\n",
      "Epoch 00018: saving model to model_init_2022-05-1805_39_49.403993/model-00018-0.77900-0.69652-0.79448-0.68000.h5\n",
      "67/67 [==============================] - 77s 1s/step - loss: 0.7790 - categorical_accuracy: 0.6965 - val_loss: 0.7945 - val_categorical_accuracy: 0.6800 - lr: 4.0000e-05\n",
      "Epoch 19/20\n",
      "67/67 [==============================] - ETA: 0s - loss: 0.7403 - categorical_accuracy: 0.6915\n",
      "Epoch 00019: saving model to model_init_2022-05-1805_39_49.403993/model-00019-0.74026-0.69154-0.61336-0.79000.h5\n",
      "67/67 [==============================] - 79s 1s/step - loss: 0.7403 - categorical_accuracy: 0.6915 - val_loss: 0.6134 - val_categorical_accuracy: 0.7900 - lr: 4.0000e-05\n",
      "Epoch 20/20\n",
      "67/67 [==============================] - ETA: 0s - loss: 0.7331 - categorical_accuracy: 0.7114\n",
      "Epoch 00020: saving model to model_init_2022-05-1805_39_49.403993/model-00020-0.73309-0.71144-0.72430-0.77000.h5\n",
      "67/67 [==============================] - 79s 1s/step - loss: 0.7331 - categorical_accuracy: 0.7114 - val_loss: 0.7243 - val_categorical_accuracy: 0.7700 - lr: 4.0000e-05\n"
     ]
    },
    {
     "data": {
      "text/plain": [
       "<keras.callbacks.History at 0x7fd7b0173100>"
      ]
     },
     "execution_count": 32,
     "metadata": {},
     "output_type": "execute_result"
    }
   ],
   "source": [
    "model_b2.fit(train_generator, steps_per_epoch=steps_per_epoch, epochs=num_epochs, verbose=1, \n",
    "                    callbacks=callbacks_list, validation_data=val_generator, \n",
    "                    validation_steps=validation_steps, class_weight=None, workers=1, initial_epoch=0)"
   ]
  },
  {
   "cell_type": "markdown",
   "metadata": {
    "id": "HOOjyIOggpUE"
   },
   "source": [
    "Here training accuracy of 79% and validation accuracy of 73%. So this model is a good model and can be used for further analysis.\n",
    "\n"
   ]
  },
  {
   "cell_type": "markdown",
   "metadata": {
    "id": "i5-1LZltgpUF"
   },
   "source": [
    "####  For now CONV 3D model the model in exp 4 is the best one."
   ]
  },
  {
   "cell_type": "markdown",
   "metadata": {
    "id": "e4cnIIQZgpUF"
   },
   "source": [
    "## Conv2D + RNN to build a model"
   ]
  },
  {
   "cell_type": "code",
   "execution_count": 13,
   "metadata": {
    "id": "9QuVOTyNgpUF"
   },
   "outputs": [],
   "source": [
    "x = 30 # number of frames\n",
    "y = 100 # image width\n",
    "z = 100 # image height\n",
    "batch_size=10\n",
    "num_epochs=30\n",
    "channels=3\n",
    "classes=5\n"
   ]
  },
  {
   "cell_type": "code",
   "execution_count": 14,
   "metadata": {
    "id": "Yd6TlhgBgpUF"
   },
   "outputs": [],
   "source": [
    "def generator(source_path, folder_list, batch_size):\n",
    "    print( 'Source path = ', source_path, '; batch size =', batch_size)\n",
    "    img_idx =[x for x in range(0,x)]   #create a list of image numbers you want to use for a particular video\n",
    "    while True:\n",
    "        t = np.random.permutation(folder_list)\n",
    "        num_batches = len(t)//batch_size    # calculate the number of batches\n",
    "        for batch in range(num_batches): # we iterate over the number of batches\n",
    "            batch_data = np.zeros((batch_size,x,y,z,channels)) # x is the number of images you use for each video, (y,z) is the final size of the input images and 3 is the number of channels RGB\n",
    "            batch_labels = np.zeros((batch_size,classes)) # batch_labels is the one hot representation of the output\n",
    "            for folder in range(batch_size): # iterate over the batch_size\n",
    "                imgs = os.listdir(source_path+'/'+ t[folder + (batch*batch_size)].split(';')[0]) # read all the images in the folder\n",
    "                for idx,item in enumerate(img_idx): #  Iterate iver the frames/images of a folder to read them in\n",
    "                    image = imread(source_path+'/'+ t[folder + (batch*batch_size)].strip().split(';')[0]+'/'+imgs[item]).astype(np.float32)\n",
    "                    \n",
    "                    #crop the images and resize them. Note that the images are of 2 different shape \n",
    "                    #and the conv3D will throw error if the inputs in a batch have different shapes\n",
    "                    \n",
    "                    temp = imresize(image,(y,z))\n",
    "                    temp = temp/255 #Normalize data\n",
    "                    \n",
    "                    batch_data[folder,idx,:,:,0] = (temp[:,:,0])  #normalise and feed in the image\n",
    "                    batch_data[folder,idx,:,:,1] = (temp[:,:,1])  #normalise and feed in the image\n",
    "                    batch_data[folder,idx,:,:,2] = (temp[:,:,2])  #normalise and feed in the image\n",
    "                    \n",
    "                batch_labels[folder, int(t[folder + (batch*batch_size)].strip().split(';')[2])] = 1\n",
    "            yield batch_data, batch_labels #you yield the batch_data and the batch_labels, remember what does yield do\n",
    "\n",
    "        \n",
    "        # write the code for the remaining data points which are left after full batches\n",
    "        if (len(folder_list) != batch_size*num_batches):\n",
    "            print(\"Batch: \",num_batches+1,\"Index:\", batch_size)\n",
    "            batch_size = len(folder_list) - (batch_size*num_batches)\n",
    "            batch_data = np.zeros((batch_size,x,y,z,channels)) # x is the number of images you use for each video, (y,z) is the final size of the input images and 3 is the number of channels RGB\n",
    "            batch_labels = np.zeros((batch_size,classes)) # batch_labels is the one hot representation of the output\n",
    "            for folder in range(batch_size): # iterate over the batch_size\n",
    "                imgs = os.listdir(source_path+'/'+ t[folder + (batch*batch_size)].split(';')[0]) # read all the images in the folder\n",
    "                for idx,item in enumerate(img_idx): #  Iterate iver the frames/images of a folder to read them in\n",
    "                    image = imread(source_path+'/'+ t[folder + (batch*batch_size)].strip().split(';')[0]+'/'+imgs[item]).astype(np.float32)\n",
    "                    \n",
    "                    #crop the images and resize them. Note that the images are of 2 different shape \n",
    "                    #and the conv3D will throw error if the inputs in a batch have different shapes\n",
    "                    temp = imresize(image,(y,z))\n",
    "                    temp = temp/255 #Normalize data\n",
    "                    \n",
    "                    batch_data[folder,idx,:,:,0] = (temp[:,:,0])\n",
    "                    batch_data[folder,idx,:,:,1] = (temp[:,:,1])\n",
    "                    batch_data[folder,idx,:,:,2] = (temp[:,:,2])\n",
    "                   \n",
    "                batch_labels[folder, int(t[folder + (batch*batch_size)].strip().split(';')[2])] = 1\n",
    "            yield batch_data, batch_labels"
   ]
  },
  {
   "cell_type": "code",
   "execution_count": 15,
   "metadata": {
    "id": "uIz94h2zgpUG",
    "outputId": "37fefa32-5c57-49ce-d56f-017f1bfa29e8"
   },
   "outputs": [
    {
     "name": "stdout",
     "output_type": "stream",
     "text": [
      "# training sequences = 663\n",
      "# validation sequences = 100\n",
      "# epochs = 30\n",
      "66\n"
     ]
    }
   ],
   "source": [
    "curr_dt_time = datetime.datetime.now()\n",
    "train_path = '/home/datasets/Project_data/train'\n",
    "val_path = '/home/datasets/Project_data/val'\n",
    "num_train_sequences = len(train_doc)\n",
    "print('# training sequences =', num_train_sequences)\n",
    "num_val_sequences = len(val_doc)\n",
    "print('# validation sequences =', num_val_sequences)\n",
    "num_epochs =   30  # choose the number of epochs\n",
    "print ('# epochs =', num_epochs)\n",
    "num_batches = num_train_sequences//batch_size \n",
    "print(num_batches)"
   ]
  },
  {
   "cell_type": "markdown",
   "metadata": {
    "id": "uUgtbuqJgpUG"
   },
   "source": [
    "#### Exp- 5 :custom conv2d + GRU "
   ]
  },
  {
   "cell_type": "code",
   "execution_count": 16,
   "metadata": {
    "id": "DuedxkRugpUG"
   },
   "outputs": [],
   "source": [
    "#define model\n",
    "\n",
    "from keras.models import Sequential, Model\n",
    "from keras.layers import Dense, GRU, Flatten, TimeDistributed, Flatten, BatchNormalization, Activation\n",
    "from keras.layers.convolutional import Conv2D, MaxPooling2D\n",
    "from keras.callbacks import ModelCheckpoint, ReduceLROnPlateau, EarlyStopping\n",
    "from keras import optimizers\n",
    "from keras.layers import Dropout\n",
    "\n",
    "\n",
    "input_shape=(x,y,z,channels)\n",
    "model_d= Sequential()\n",
    "\n",
    "model_d.add(TimeDistributed(Conv2D(16, kernel_size=(3, 3),  padding='same'),input_shape=input_shape))\n",
    "model_d.add(TimeDistributed(Activation('relu')))\n",
    "model_d.add(TimeDistributed(BatchNormalization()))\n",
    "\n",
    "\n",
    "model_d.add(TimeDistributed(MaxPooling2D(pool_size=(2, 2))))\n",
    "\n",
    "model_d.add(TimeDistributed(Conv2D(32, kernel_size=(3, 3), padding='same')))\n",
    "model_d.add(TimeDistributed(Activation('relu')))\n",
    "model_d.add(TimeDistributed(BatchNormalization()))\n",
    "\n",
    "\n",
    "model_d.add(TimeDistributed(MaxPooling2D(pool_size=(2, 2))))\n",
    "\n",
    "model_d.add(TimeDistributed(Conv2D(64, kernel_size=(3, 3),  padding='same')))\n",
    "model_d.add(TimeDistributed(Activation('relu')))\n",
    "model_d.add(TimeDistributed(BatchNormalization()))\n",
    "\n",
    "\n",
    "model_d.add(TimeDistributed(MaxPooling2D(pool_size=(2, 2))))\n",
    "\n",
    "model_d.add(TimeDistributed(Conv2D(128, kernel_size=(3, 3), padding='same')))\n",
    "model_d.add(TimeDistributed(Activation('relu')))\n",
    "model_d.add(TimeDistributed(BatchNormalization()))\n",
    "\n",
    "\n",
    "model_d.add(TimeDistributed(MaxPooling2D(pool_size=(2, 2))))\n",
    "\n",
    "model_d.add(TimeDistributed(Flatten()))\n",
    "\n",
    "model_d.add(GRU(64))\n",
    "model_d.add(Dropout(0.25))\n",
    "\n",
    "model_d.add(Dense(64,activation='relu'))\n",
    "model_d.add(Dropout(0.25))\n",
    "\n",
    "model_d.add(Dense(classes, activation='softmax'))\n",
    "\n",
    "\n",
    "\n"
   ]
  },
  {
   "cell_type": "code",
   "execution_count": 17,
   "metadata": {
    "id": "xIR1eH9kgpUH",
    "outputId": "2676d81d-85a2-4602-911d-c75f72cdf3ff"
   },
   "outputs": [
    {
     "name": "stdout",
     "output_type": "stream",
     "text": [
      "Model: \"sequential_1\"\n",
      "_________________________________________________________________\n",
      " Layer (type)                Output Shape              Param #   \n",
      "=================================================================\n",
      " time_distributed (TimeDistr  (None, 30, 100, 100, 16)  448      \n",
      " ibuted)                                                         \n",
      "                                                                 \n",
      " time_distributed_1 (TimeDis  (None, 30, 100, 100, 16)  0        \n",
      " tributed)                                                       \n",
      "                                                                 \n",
      " time_distributed_2 (TimeDis  (None, 30, 100, 100, 16)  64       \n",
      " tributed)                                                       \n",
      "                                                                 \n",
      " time_distributed_3 (TimeDis  (None, 30, 50, 50, 16)   0         \n",
      " tributed)                                                       \n",
      "                                                                 \n",
      " time_distributed_4 (TimeDis  (None, 30, 50, 50, 32)   4640      \n",
      " tributed)                                                       \n",
      "                                                                 \n",
      " time_distributed_5 (TimeDis  (None, 30, 50, 50, 32)   0         \n",
      " tributed)                                                       \n",
      "                                                                 \n",
      " time_distributed_6 (TimeDis  (None, 30, 50, 50, 32)   128       \n",
      " tributed)                                                       \n",
      "                                                                 \n",
      " time_distributed_7 (TimeDis  (None, 30, 25, 25, 32)   0         \n",
      " tributed)                                                       \n",
      "                                                                 \n",
      " time_distributed_8 (TimeDis  (None, 30, 25, 25, 64)   18496     \n",
      " tributed)                                                       \n",
      "                                                                 \n",
      " time_distributed_9 (TimeDis  (None, 30, 25, 25, 64)   0         \n",
      " tributed)                                                       \n",
      "                                                                 \n",
      " time_distributed_10 (TimeDi  (None, 30, 25, 25, 64)   256       \n",
      " stributed)                                                      \n",
      "                                                                 \n",
      " time_distributed_11 (TimeDi  (None, 30, 12, 12, 64)   0         \n",
      " stributed)                                                      \n",
      "                                                                 \n",
      " time_distributed_12 (TimeDi  (None, 30, 12, 12, 128)  73856     \n",
      " stributed)                                                      \n",
      "                                                                 \n",
      " time_distributed_13 (TimeDi  (None, 30, 12, 12, 128)  0         \n",
      " stributed)                                                      \n",
      "                                                                 \n",
      " time_distributed_14 (TimeDi  (None, 30, 12, 12, 128)  512       \n",
      " stributed)                                                      \n",
      "                                                                 \n",
      " time_distributed_15 (TimeDi  (None, 30, 6, 6, 128)    0         \n",
      " stributed)                                                      \n",
      "                                                                 \n",
      " time_distributed_16 (TimeDi  (None, 30, 4608)         0         \n",
      " stributed)                                                      \n",
      "                                                                 \n",
      " gru (GRU)                   (None, 64)                897408    \n",
      "                                                                 \n",
      " dropout_1 (Dropout)         (None, 64)                0         \n",
      "                                                                 \n",
      " dense_2 (Dense)             (None, 64)                4160      \n",
      "                                                                 \n",
      " dropout_2 (Dropout)         (None, 64)                0         \n",
      "                                                                 \n",
      " dense_3 (Dense)             (None, 5)                 325       \n",
      "                                                                 \n",
      "=================================================================\n",
      "Total params: 1,000,293\n",
      "Trainable params: 999,813\n",
      "Non-trainable params: 480\n",
      "_________________________________________________________________\n",
      "None\n"
     ]
    }
   ],
   "source": [
    "optimiser=tf.keras.optimizers.Adam()\n",
    "model_d.compile(optimizer=optimiser, loss='categorical_crossentropy', metrics=['categorical_accuracy'])\n",
    "print (model_d.summary())"
   ]
  },
  {
   "cell_type": "code",
   "execution_count": 18,
   "metadata": {
    "id": "s07vEhPwgpUH"
   },
   "outputs": [],
   "source": [
    "train_generator = generator(train_path, train_doc, batch_size)\n",
    "val_generator = generator(val_path, val_doc, batch_size)"
   ]
  },
  {
   "cell_type": "code",
   "execution_count": 19,
   "metadata": {
    "id": "ri3Sq3jEgpUH",
    "outputId": "204d061e-2117-4059-edf0-2e05d6911ec4"
   },
   "outputs": [
    {
     "name": "stdout",
     "output_type": "stream",
     "text": [
      "WARNING:tensorflow:`period` argument is deprecated. Please use `save_freq` to specify the frequency in number of batches seen.\n"
     ]
    }
   ],
   "source": [
    "model_name = 'model_init' + '_' + str(curr_dt_time).replace(' ','').replace(':','_') + '/'\n",
    "    \n",
    "if not os.path.exists(model_name):\n",
    "    os.mkdir(model_name)\n",
    "        \n",
    "filepath = model_name + 'model-{epoch:05d}-{loss:.5f}-{categorical_accuracy:.5f}-{val_loss:.5f}-{val_categorical_accuracy:.5f}.h5'\n",
    "\n",
    "checkpoint = ModelCheckpoint(filepath, monitor='val_loss', verbose=1, save_best_only=False, save_weights_only=False, mode='auto', period=1)\n",
    "\n",
    "LR = ReduceLROnPlateau(monitor='val_loss', factor=0.2, patience=4, cooldown=1, verbose=1)# write the REducelronplateau code here\n",
    "earlystop = EarlyStopping( monitor=\"val_loss\", min_delta=0,patience=10,verbose=1)\n",
    "callbacks_list = [checkpoint, LR, earlystop]"
   ]
  },
  {
   "cell_type": "code",
   "execution_count": 20,
   "metadata": {
    "id": "__w7Eeo4gpUI"
   },
   "outputs": [],
   "source": [
    "if (num_train_sequences%batch_size) == 0:\n",
    "    steps_per_epoch = int(num_train_sequences/batch_size)\n",
    "else:\n",
    "    steps_per_epoch = (num_train_sequences//batch_size) + 1\n",
    "\n",
    "if (num_val_sequences%batch_size) == 0:\n",
    "    validation_steps = int(num_val_sequences/batch_size)\n",
    "else:\n",
    "    validation_steps = (num_val_sequences//batch_size) + 1"
   ]
  },
  {
   "cell_type": "code",
   "execution_count": 41,
   "metadata": {
    "id": "76gdbdqJgpUI",
    "outputId": "934d9af7-995e-4eef-a009-2d5ac180770e"
   },
   "outputs": [
    {
     "name": "stdout",
     "output_type": "stream",
     "text": [
      "Source path =  /home/datasets/Project_data/train ; batch size = 10\n",
      "Epoch 1/30\n",
      "65/67 [============================>.] - ETA: 4s - loss: 1.5651 - categorical_accuracy: 0.3200Batch:  67 Index: 10\n",
      "67/67 [==============================] - ETA: 0s - loss: 1.5597 - categorical_accuracy: 0.3243Source path =  /home/datasets/Project_data/val ; batch size = 10\n",
      "\n",
      "Epoch 00001: saving model to model_init_2022-05-1806_37_32.418090/model-00001-1.55970-0.32428-1.69218-0.22000.h5\n",
      "67/67 [==============================] - 184s 3s/step - loss: 1.5597 - categorical_accuracy: 0.3243 - val_loss: 1.6922 - val_categorical_accuracy: 0.2200 - lr: 0.0010\n",
      "Epoch 2/30\n",
      "67/67 [==============================] - ETA: 0s - loss: 1.4174 - categorical_accuracy: 0.3980\n",
      "Epoch 00002: saving model to model_init_2022-05-1806_37_32.418090/model-00002-1.41735-0.39801-1.60546-0.24000.h5\n",
      "67/67 [==============================] - 73s 1s/step - loss: 1.4174 - categorical_accuracy: 0.3980 - val_loss: 1.6055 - val_categorical_accuracy: 0.2400 - lr: 0.0010\n",
      "Epoch 3/30\n",
      "67/67 [==============================] - ETA: 0s - loss: 1.4420 - categorical_accuracy: 0.4378\n",
      "Epoch 00003: saving model to model_init_2022-05-1806_37_32.418090/model-00003-1.44201-0.43781-1.68015-0.23000.h5\n",
      "67/67 [==============================] - 77s 1s/step - loss: 1.4420 - categorical_accuracy: 0.4378 - val_loss: 1.6802 - val_categorical_accuracy: 0.2300 - lr: 0.0010\n",
      "Epoch 4/30\n",
      "67/67 [==============================] - ETA: 0s - loss: 1.6148 - categorical_accuracy: 0.2935\n",
      "Epoch 00004: saving model to model_init_2022-05-1806_37_32.418090/model-00004-1.61479-0.29353-1.83645-0.23000.h5\n",
      "67/67 [==============================] - 75s 1s/step - loss: 1.6148 - categorical_accuracy: 0.2935 - val_loss: 1.8364 - val_categorical_accuracy: 0.2300 - lr: 0.0010\n",
      "Epoch 5/30\n",
      "67/67 [==============================] - ETA: 0s - loss: 1.4786 - categorical_accuracy: 0.3682\n",
      "Epoch 00005: saving model to model_init_2022-05-1806_37_32.418090/model-00005-1.47865-0.36816-1.82975-0.18000.h5\n",
      "67/67 [==============================] - 78s 1s/step - loss: 1.4786 - categorical_accuracy: 0.3682 - val_loss: 1.8298 - val_categorical_accuracy: 0.1800 - lr: 0.0010\n",
      "Epoch 6/30\n",
      "67/67 [==============================] - ETA: 0s - loss: 1.3602 - categorical_accuracy: 0.4179\n",
      "Epoch 00006: saving model to model_init_2022-05-1806_37_32.418090/model-00006-1.36016-0.41791-2.06280-0.20000.h5\n",
      "\n",
      "Epoch 00006: ReduceLROnPlateau reducing learning rate to 0.00020000000949949026.\n",
      "67/67 [==============================] - 73s 1s/step - loss: 1.3602 - categorical_accuracy: 0.4179 - val_loss: 2.0628 - val_categorical_accuracy: 0.2000 - lr: 0.0010\n",
      "Epoch 7/30\n",
      "67/67 [==============================] - ETA: 0s - loss: 1.4541 - categorical_accuracy: 0.3781\n",
      "Epoch 00007: saving model to model_init_2022-05-1806_37_32.418090/model-00007-1.45412-0.37811-2.01431-0.14000.h5\n",
      "67/67 [==============================] - 76s 1s/step - loss: 1.4541 - categorical_accuracy: 0.3781 - val_loss: 2.0143 - val_categorical_accuracy: 0.1400 - lr: 2.0000e-04\n",
      "Epoch 8/30\n",
      "67/67 [==============================] - ETA: 0s - loss: 1.4466 - categorical_accuracy: 0.3632\n",
      "Epoch 00008: saving model to model_init_2022-05-1806_37_32.418090/model-00008-1.44658-0.36318-1.99078-0.14000.h5\n",
      "67/67 [==============================] - 70s 1s/step - loss: 1.4466 - categorical_accuracy: 0.3632 - val_loss: 1.9908 - val_categorical_accuracy: 0.1400 - lr: 2.0000e-04\n",
      "Epoch 9/30\n",
      "67/67 [==============================] - ETA: 0s - loss: 1.3259 - categorical_accuracy: 0.4876\n",
      "Epoch 00009: saving model to model_init_2022-05-1806_37_32.418090/model-00009-1.32590-0.48756-1.98309-0.28000.h5\n",
      "67/67 [==============================] - 69s 1s/step - loss: 1.3259 - categorical_accuracy: 0.4876 - val_loss: 1.9831 - val_categorical_accuracy: 0.2800 - lr: 2.0000e-04\n",
      "Epoch 10/30\n",
      "67/67 [==============================] - ETA: 0s - loss: 1.3155 - categorical_accuracy: 0.4876\n",
      "Epoch 00010: saving model to model_init_2022-05-1806_37_32.418090/model-00010-1.31548-0.48756-1.80146-0.26000.h5\n",
      "\n",
      "Epoch 00010: ReduceLROnPlateau reducing learning rate to 4.0000001899898055e-05.\n",
      "67/67 [==============================] - 80s 1s/step - loss: 1.3155 - categorical_accuracy: 0.4876 - val_loss: 1.8015 - val_categorical_accuracy: 0.2600 - lr: 2.0000e-04\n",
      "Epoch 11/30\n",
      "67/67 [==============================] - ETA: 0s - loss: 1.2561 - categorical_accuracy: 0.4826\n",
      "Epoch 00011: saving model to model_init_2022-05-1806_37_32.418090/model-00011-1.25608-0.48259-1.62265-0.34000.h5\n",
      "67/67 [==============================] - 76s 1s/step - loss: 1.2561 - categorical_accuracy: 0.4826 - val_loss: 1.6226 - val_categorical_accuracy: 0.3400 - lr: 4.0000e-05\n",
      "Epoch 12/30\n",
      "67/67 [==============================] - ETA: 0s - loss: 1.3003 - categorical_accuracy: 0.4677\n",
      "Epoch 00012: saving model to model_init_2022-05-1806_37_32.418090/model-00012-1.30032-0.46766-1.26318-0.44000.h5\n",
      "67/67 [==============================] - 77s 1s/step - loss: 1.3003 - categorical_accuracy: 0.4677 - val_loss: 1.2632 - val_categorical_accuracy: 0.4400 - lr: 4.0000e-05\n",
      "Epoch 13/30\n",
      "67/67 [==============================] - ETA: 0s - loss: 1.3993 - categorical_accuracy: 0.3483\n",
      "Epoch 00013: saving model to model_init_2022-05-1806_37_32.418090/model-00013-1.39931-0.34826-1.19408-0.51000.h5\n",
      "67/67 [==============================] - 70s 1s/step - loss: 1.3993 - categorical_accuracy: 0.3483 - val_loss: 1.1941 - val_categorical_accuracy: 0.5100 - lr: 4.0000e-05\n",
      "Epoch 14/30\n",
      "67/67 [==============================] - ETA: 0s - loss: 1.3011 - categorical_accuracy: 0.4726\n",
      "Epoch 00014: saving model to model_init_2022-05-1806_37_32.418090/model-00014-1.30109-0.47264-1.21262-0.45000.h5\n",
      "67/67 [==============================] - 80s 1s/step - loss: 1.3011 - categorical_accuracy: 0.4726 - val_loss: 1.2126 - val_categorical_accuracy: 0.4500 - lr: 4.0000e-05\n",
      "Epoch 15/30\n",
      "67/67 [==============================] - ETA: 0s - loss: 1.3497 - categorical_accuracy: 0.4229\n",
      "Epoch 00015: saving model to model_init_2022-05-1806_37_32.418090/model-00015-1.34971-0.42289-1.19082-0.48000.h5\n",
      "67/67 [==============================] - 80s 1s/step - loss: 1.3497 - categorical_accuracy: 0.4229 - val_loss: 1.1908 - val_categorical_accuracy: 0.4800 - lr: 4.0000e-05\n",
      "Epoch 16/30\n",
      "67/67 [==============================] - ETA: 0s - loss: 1.2655 - categorical_accuracy: 0.5025\n",
      "Epoch 00016: saving model to model_init_2022-05-1806_37_32.418090/model-00016-1.26547-0.50249-1.21394-0.56000.h5\n",
      "67/67 [==============================] - 76s 1s/step - loss: 1.2655 - categorical_accuracy: 0.5025 - val_loss: 1.2139 - val_categorical_accuracy: 0.5600 - lr: 4.0000e-05\n",
      "Epoch 17/30\n",
      "67/67 [==============================] - ETA: 0s - loss: 1.1516 - categorical_accuracy: 0.5572\n",
      "Epoch 00017: saving model to model_init_2022-05-1806_37_32.418090/model-00017-1.15160-0.55721-1.16772-0.42000.h5\n",
      "67/67 [==============================] - 79s 1s/step - loss: 1.1516 - categorical_accuracy: 0.5572 - val_loss: 1.1677 - val_categorical_accuracy: 0.4200 - lr: 4.0000e-05\n",
      "Epoch 18/30\n",
      "67/67 [==============================] - ETA: 0s - loss: 1.2119 - categorical_accuracy: 0.5373\n",
      "Epoch 00018: saving model to model_init_2022-05-1806_37_32.418090/model-00018-1.21192-0.53731-1.16456-0.52000.h5\n",
      "67/67 [==============================] - 75s 1s/step - loss: 1.2119 - categorical_accuracy: 0.5373 - val_loss: 1.1646 - val_categorical_accuracy: 0.5200 - lr: 4.0000e-05\n",
      "Epoch 19/30\n",
      "67/67 [==============================] - ETA: 0s - loss: 1.1297 - categorical_accuracy: 0.5423\n",
      "Epoch 00019: saving model to model_init_2022-05-1806_37_32.418090/model-00019-1.12970-0.54229-1.19381-0.51000.h5\n",
      "67/67 [==============================] - 81s 1s/step - loss: 1.1297 - categorical_accuracy: 0.5423 - val_loss: 1.1938 - val_categorical_accuracy: 0.5100 - lr: 4.0000e-05\n",
      "Epoch 20/30\n",
      "67/67 [==============================] - ETA: 0s - loss: 1.2059 - categorical_accuracy: 0.5025\n",
      "Epoch 00020: saving model to model_init_2022-05-1806_37_32.418090/model-00020-1.20592-0.50249-1.10001-0.56000.h5\n",
      "67/67 [==============================] - 76s 1s/step - loss: 1.2059 - categorical_accuracy: 0.5025 - val_loss: 1.1000 - val_categorical_accuracy: 0.5600 - lr: 4.0000e-05\n",
      "Epoch 21/30\n",
      "67/67 [==============================] - ETA: 0s - loss: 1.2207 - categorical_accuracy: 0.5473\n",
      "Epoch 00021: saving model to model_init_2022-05-1806_37_32.418090/model-00021-1.22071-0.54726-1.11866-0.56000.h5\n",
      "67/67 [==============================] - 74s 1s/step - loss: 1.2207 - categorical_accuracy: 0.5473 - val_loss: 1.1187 - val_categorical_accuracy: 0.5600 - lr: 4.0000e-05\n",
      "Epoch 22/30\n",
      "67/67 [==============================] - ETA: 0s - loss: 1.2051 - categorical_accuracy: 0.5075\n",
      "Epoch 00022: saving model to model_init_2022-05-1806_37_32.418090/model-00022-1.20509-0.50746-1.17983-0.49000.h5\n",
      "67/67 [==============================] - 84s 1s/step - loss: 1.2051 - categorical_accuracy: 0.5075 - val_loss: 1.1798 - val_categorical_accuracy: 0.4900 - lr: 4.0000e-05\n",
      "Epoch 23/30\n",
      "67/67 [==============================] - ETA: 0s - loss: 1.2464 - categorical_accuracy: 0.4627\n",
      "Epoch 00023: saving model to model_init_2022-05-1806_37_32.418090/model-00023-1.24637-0.46269-1.10234-0.62000.h5\n",
      "67/67 [==============================] - 80s 1s/step - loss: 1.2464 - categorical_accuracy: 0.4627 - val_loss: 1.1023 - val_categorical_accuracy: 0.6200 - lr: 4.0000e-05\n",
      "Epoch 24/30\n",
      "67/67 [==============================] - ETA: 0s - loss: 1.1674 - categorical_accuracy: 0.5323\n",
      "Epoch 00024: saving model to model_init_2022-05-1806_37_32.418090/model-00024-1.16745-0.53234-1.11731-0.56000.h5\n",
      "\n",
      "Epoch 00024: ReduceLROnPlateau reducing learning rate to 8.000000525498762e-06.\n",
      "67/67 [==============================] - 82s 1s/step - loss: 1.1674 - categorical_accuracy: 0.5323 - val_loss: 1.1173 - val_categorical_accuracy: 0.5600 - lr: 4.0000e-05\n",
      "Epoch 25/30\n",
      "67/67 [==============================] - ETA: 0s - loss: 1.2566 - categorical_accuracy: 0.4975\n",
      "Epoch 00025: saving model to model_init_2022-05-1806_37_32.418090/model-00025-1.25655-0.49751-1.06211-0.54000.h5\n",
      "67/67 [==============================] - 80s 1s/step - loss: 1.2566 - categorical_accuracy: 0.4975 - val_loss: 1.0621 - val_categorical_accuracy: 0.5400 - lr: 8.0000e-06\n",
      "Epoch 26/30\n",
      "67/67 [==============================] - ETA: 0s - loss: 1.1408 - categorical_accuracy: 0.5174\n",
      "Epoch 00026: saving model to model_init_2022-05-1806_37_32.418090/model-00026-1.14079-0.51741-1.13302-0.57000.h5\n",
      "67/67 [==============================] - 71s 1s/step - loss: 1.1408 - categorical_accuracy: 0.5174 - val_loss: 1.1330 - val_categorical_accuracy: 0.5700 - lr: 8.0000e-06\n",
      "Epoch 27/30\n",
      "67/67 [==============================] - ETA: 0s - loss: 1.1020 - categorical_accuracy: 0.5821\n",
      "Epoch 00027: saving model to model_init_2022-05-1806_37_32.418090/model-00027-1.10200-0.58209-1.11211-0.54000.h5\n",
      "67/67 [==============================] - 77s 1s/step - loss: 1.1020 - categorical_accuracy: 0.5821 - val_loss: 1.1121 - val_categorical_accuracy: 0.5400 - lr: 8.0000e-06\n",
      "Epoch 28/30\n",
      "67/67 [==============================] - ETA: 0s - loss: 1.1440 - categorical_accuracy: 0.5622\n",
      "Epoch 00028: saving model to model_init_2022-05-1806_37_32.418090/model-00028-1.14395-0.56219-1.13624-0.55000.h5\n",
      "67/67 [==============================] - 76s 1s/step - loss: 1.1440 - categorical_accuracy: 0.5622 - val_loss: 1.1362 - val_categorical_accuracy: 0.5500 - lr: 8.0000e-06\n",
      "Epoch 29/30\n",
      "67/67 [==============================] - ETA: 0s - loss: 1.1594 - categorical_accuracy: 0.5124\n",
      "Epoch 00029: saving model to model_init_2022-05-1806_37_32.418090/model-00029-1.15936-0.51244-1.13992-0.52000.h5\n",
      "\n",
      "Epoch 00029: ReduceLROnPlateau reducing learning rate to 1.6000001778593287e-06.\n",
      "67/67 [==============================] - 81s 1s/step - loss: 1.1594 - categorical_accuracy: 0.5124 - val_loss: 1.1399 - val_categorical_accuracy: 0.5200 - lr: 8.0000e-06\n",
      "Epoch 30/30\n",
      "67/67 [==============================] - ETA: 0s - loss: 1.1306 - categorical_accuracy: 0.5672\n",
      "Epoch 00030: saving model to model_init_2022-05-1806_37_32.418090/model-00030-1.13060-0.56716-1.13218-0.54000.h5\n",
      "67/67 [==============================] - 73s 1s/step - loss: 1.1306 - categorical_accuracy: 0.5672 - val_loss: 1.1322 - val_categorical_accuracy: 0.5400 - lr: 1.6000e-06\n"
     ]
    },
    {
     "data": {
      "text/plain": [
       "<keras.callbacks.History at 0x7fd7dfb5eca0>"
      ]
     },
     "execution_count": 41,
     "metadata": {},
     "output_type": "execute_result"
    }
   ],
   "source": [
    "model_d.fit(train_generator, steps_per_epoch=steps_per_epoch, epochs=num_epochs, verbose=1, \n",
    "                    callbacks=callbacks_list, validation_data=val_generator, \n",
    "                    validation_steps=validation_steps, class_weight=None, workers=1, initial_epoch=0)"
   ]
  },
  {
   "cell_type": "markdown",
   "metadata": {
    "id": "iB15fpdngpUI"
   },
   "source": [
    "from the above model we can infer that the accuracy of training and validation are 56% and 55.0% respectively.<br>"
   ]
  },
  {
   "cell_type": "markdown",
   "metadata": {
    "id": "dQd92hFFgpUI"
   },
   "source": [
    "#### Exp-6 : Let us add more dense nuerons and gru cells and examine the results "
   ]
  },
  {
   "cell_type": "code",
   "execution_count": 42,
   "metadata": {
    "id": "4ZkB8Xq7gpUJ"
   },
   "outputs": [],
   "source": [
    "input_shape=(x,y,z,channels)\n",
    "model_d1= Sequential()\n",
    "\n",
    "model_d1.add(TimeDistributed(Conv2D(16, kernel_size=(3, 3),  padding='same'),input_shape=input_shape))\n",
    "model_d1.add(TimeDistributed(Activation('relu')))\n",
    "model_d1.add(TimeDistributed(BatchNormalization()))\n",
    "\n",
    "\n",
    "model_d1.add(TimeDistributed(MaxPooling2D(pool_size=(2, 2))))\n",
    "\n",
    "model_d1.add(TimeDistributed(Conv2D(32, kernel_size=(3, 3), padding='same')))\n",
    "model_d1.add(TimeDistributed(Activation('relu')))\n",
    "model_d1.add(TimeDistributed(BatchNormalization()))\n",
    "\n",
    "\n",
    "model_d1.add(TimeDistributed(MaxPooling2D(pool_size=(2, 2))))\n",
    "\n",
    "model_d1.add(TimeDistributed(Conv2D(64, kernel_size=(3, 3),  padding='same')))\n",
    "model_d1.add(TimeDistributed(Activation('relu')))\n",
    "model_d1.add(TimeDistributed(BatchNormalization()))\n",
    "\n",
    "\n",
    "model_d1.add(TimeDistributed(MaxPooling2D(pool_size=(2, 2))))\n",
    "\n",
    "model_d1.add(TimeDistributed(Conv2D(128, kernel_size=(3, 3), padding='same')))\n",
    "model_d1.add(TimeDistributed(Activation('relu')))\n",
    "model_d1.add(TimeDistributed(BatchNormalization()))\n",
    "\n",
    "\n",
    "model_d1.add(TimeDistributed(MaxPooling2D(pool_size=(2, 2))))\n",
    "\n",
    "model_d1.add(TimeDistributed(Flatten()))\n",
    "\n",
    "model_d1.add(GRU(128))\n",
    "model_d1.add(Dropout(0.25))\n",
    "\n",
    "model_d1.add(Dense(128,activation='relu'))\n",
    "model_d1.add(Dropout(0.25))\n",
    "\n",
    "model_d1.add(Dense(classes, activation='softmax'))\n",
    "\n"
   ]
  },
  {
   "cell_type": "code",
   "execution_count": 43,
   "metadata": {
    "id": "htlW_l3ugpUJ",
    "outputId": "7a35c4ef-3f12-4271-a078-cc144ab34da1"
   },
   "outputs": [
    {
     "name": "stdout",
     "output_type": "stream",
     "text": [
      "Model: \"sequential_5\"\n",
      "_________________________________________________________________\n",
      " Layer (type)                Output Shape              Param #   \n",
      "=================================================================\n",
      " time_distributed_17 (TimeDi  (None, 30, 100, 100, 16)  448      \n",
      " stributed)                                                      \n",
      "                                                                 \n",
      " time_distributed_18 (TimeDi  (None, 30, 100, 100, 16)  0        \n",
      " stributed)                                                      \n",
      "                                                                 \n",
      " time_distributed_19 (TimeDi  (None, 30, 100, 100, 16)  64       \n",
      " stributed)                                                      \n",
      "                                                                 \n",
      " time_distributed_20 (TimeDi  (None, 30, 50, 50, 16)   0         \n",
      " stributed)                                                      \n",
      "                                                                 \n",
      " time_distributed_21 (TimeDi  (None, 30, 50, 50, 32)   4640      \n",
      " stributed)                                                      \n",
      "                                                                 \n",
      " time_distributed_22 (TimeDi  (None, 30, 50, 50, 32)   0         \n",
      " stributed)                                                      \n",
      "                                                                 \n",
      " time_distributed_23 (TimeDi  (None, 30, 50, 50, 32)   128       \n",
      " stributed)                                                      \n",
      "                                                                 \n",
      " time_distributed_24 (TimeDi  (None, 30, 25, 25, 32)   0         \n",
      " stributed)                                                      \n",
      "                                                                 \n",
      " time_distributed_25 (TimeDi  (None, 30, 25, 25, 64)   18496     \n",
      " stributed)                                                      \n",
      "                                                                 \n",
      " time_distributed_26 (TimeDi  (None, 30, 25, 25, 64)   0         \n",
      " stributed)                                                      \n",
      "                                                                 \n",
      " time_distributed_27 (TimeDi  (None, 30, 25, 25, 64)   256       \n",
      " stributed)                                                      \n",
      "                                                                 \n",
      " time_distributed_28 (TimeDi  (None, 30, 12, 12, 64)   0         \n",
      " stributed)                                                      \n",
      "                                                                 \n",
      " time_distributed_29 (TimeDi  (None, 30, 12, 12, 128)  73856     \n",
      " stributed)                                                      \n",
      "                                                                 \n",
      " time_distributed_30 (TimeDi  (None, 30, 12, 12, 128)  0         \n",
      " stributed)                                                      \n",
      "                                                                 \n",
      " time_distributed_31 (TimeDi  (None, 30, 12, 12, 128)  512       \n",
      " stributed)                                                      \n",
      "                                                                 \n",
      " time_distributed_32 (TimeDi  (None, 30, 6, 6, 128)    0         \n",
      " stributed)                                                      \n",
      "                                                                 \n",
      " time_distributed_33 (TimeDi  (None, 30, 4608)         0         \n",
      " stributed)                                                      \n",
      "                                                                 \n",
      " gru_1 (GRU)                 (None, 128)               1819392   \n",
      "                                                                 \n",
      " dropout_9 (Dropout)         (None, 128)               0         \n",
      "                                                                 \n",
      " dense_13 (Dense)            (None, 128)               16512     \n",
      "                                                                 \n",
      " dropout_10 (Dropout)        (None, 128)               0         \n",
      "                                                                 \n",
      " dense_14 (Dense)            (None, 5)                 645       \n",
      "                                                                 \n",
      "=================================================================\n",
      "Total params: 1,934,949\n",
      "Trainable params: 1,934,469\n",
      "Non-trainable params: 480\n",
      "_________________________________________________________________\n",
      "None\n"
     ]
    }
   ],
   "source": [
    "optimiser=tf.keras.optimizers.Adam()\n",
    "model_d1.compile(optimizer=optimiser, loss='categorical_crossentropy', metrics=['categorical_accuracy'])\n",
    "print (model_d1.summary())"
   ]
  },
  {
   "cell_type": "code",
   "execution_count": 44,
   "metadata": {
    "id": "ilm8cq57gpUJ"
   },
   "outputs": [],
   "source": [
    "train_generator = generator(train_path, train_doc, batch_size)\n",
    "val_generator = generator(val_path, val_doc, batch_size)"
   ]
  },
  {
   "cell_type": "code",
   "execution_count": 45,
   "metadata": {
    "id": "FJZY_nS8gpUJ",
    "outputId": "5c7a5dbc-4f10-44ba-d622-c4085445aed6"
   },
   "outputs": [
    {
     "name": "stdout",
     "output_type": "stream",
     "text": [
      "Source path =  /home/datasets/Project_data/train ; batch size = 10\n",
      "Epoch 1/30\n",
      "65/67 [============================>.] - ETA: 4s - loss: 1.5280 - categorical_accuracy: 0.3615Batch:  67 Index: 10\n",
      "67/67 [==============================] - ETA: 0s - loss: 1.5250 - categorical_accuracy: 0.3635Source path =  /home/datasets/Project_data/val ; batch size = 10\n",
      "\n",
      "Epoch 00001: saving model to model_init_2022-05-1806_37_32.418090/model-00001-1.52503-0.36350-2.23002-0.16000.h5\n",
      "67/67 [==============================] - 186s 3s/step - loss: 1.5250 - categorical_accuracy: 0.3635 - val_loss: 2.2300 - val_categorical_accuracy: 0.1600 - lr: 0.0010\n",
      "Epoch 2/30\n",
      "67/67 [==============================] - ETA: 0s - loss: 1.5209 - categorical_accuracy: 0.3483\n",
      "Epoch 00002: saving model to model_init_2022-05-1806_37_32.418090/model-00002-1.52086-0.34826-2.39731-0.19000.h5\n",
      "67/67 [==============================] - 75s 1s/step - loss: 1.5209 - categorical_accuracy: 0.3483 - val_loss: 2.3973 - val_categorical_accuracy: 0.1900 - lr: 0.0010\n",
      "Epoch 3/30\n",
      "67/67 [==============================] - ETA: 0s - loss: 1.4937 - categorical_accuracy: 0.3881\n",
      "Epoch 00003: saving model to model_init_2022-05-1806_37_32.418090/model-00003-1.49373-0.38806-2.74866-0.17000.h5\n",
      "67/67 [==============================] - 71s 1s/step - loss: 1.4937 - categorical_accuracy: 0.3881 - val_loss: 2.7487 - val_categorical_accuracy: 0.1700 - lr: 0.0010\n",
      "Epoch 4/30\n",
      "67/67 [==============================] - ETA: 0s - loss: 1.4260 - categorical_accuracy: 0.3930\n",
      "Epoch 00004: saving model to model_init_2022-05-1806_37_32.418090/model-00004-1.42603-0.39303-2.54806-0.15000.h5\n",
      "67/67 [==============================] - 78s 1s/step - loss: 1.4260 - categorical_accuracy: 0.3930 - val_loss: 2.5481 - val_categorical_accuracy: 0.1500 - lr: 0.0010\n",
      "Epoch 5/30\n",
      "67/67 [==============================] - ETA: 0s - loss: 1.4914 - categorical_accuracy: 0.3582\n",
      "Epoch 00005: saving model to model_init_2022-05-1806_37_32.418090/model-00005-1.49140-0.35821-2.05455-0.28000.h5\n",
      "67/67 [==============================] - 72s 1s/step - loss: 1.4914 - categorical_accuracy: 0.3582 - val_loss: 2.0545 - val_categorical_accuracy: 0.2800 - lr: 0.0010\n",
      "Epoch 6/30\n",
      "67/67 [==============================] - ETA: 0s - loss: 1.3730 - categorical_accuracy: 0.4279\n",
      "Epoch 00006: saving model to model_init_2022-05-1806_37_32.418090/model-00006-1.37297-0.42786-2.03919-0.22000.h5\n",
      "67/67 [==============================] - 75s 1s/step - loss: 1.3730 - categorical_accuracy: 0.4279 - val_loss: 2.0392 - val_categorical_accuracy: 0.2200 - lr: 0.0010\n",
      "Epoch 7/30\n",
      "67/67 [==============================] - ETA: 0s - loss: 1.3133 - categorical_accuracy: 0.4179\n",
      "Epoch 00007: saving model to model_init_2022-05-1806_37_32.418090/model-00007-1.31326-0.41791-2.36930-0.26000.h5\n",
      "67/67 [==============================] - 74s 1s/step - loss: 1.3133 - categorical_accuracy: 0.4179 - val_loss: 2.3693 - val_categorical_accuracy: 0.2600 - lr: 0.0010\n",
      "Epoch 8/30\n",
      "67/67 [==============================] - ETA: 0s - loss: 1.3017 - categorical_accuracy: 0.4776\n",
      "Epoch 00008: saving model to model_init_2022-05-1806_37_32.418090/model-00008-1.30169-0.47761-2.31486-0.21000.h5\n",
      "67/67 [==============================] - 78s 1s/step - loss: 1.3017 - categorical_accuracy: 0.4776 - val_loss: 2.3149 - val_categorical_accuracy: 0.2100 - lr: 0.0010\n",
      "Epoch 9/30\n",
      "67/67 [==============================] - ETA: 0s - loss: 1.3471 - categorical_accuracy: 0.4677\n",
      "Epoch 00009: saving model to model_init_2022-05-1806_37_32.418090/model-00009-1.34714-0.46766-1.94544-0.28000.h5\n",
      "67/67 [==============================] - 74s 1s/step - loss: 1.3471 - categorical_accuracy: 0.4677 - val_loss: 1.9454 - val_categorical_accuracy: 0.2800 - lr: 0.0010\n",
      "Epoch 10/30\n",
      "67/67 [==============================] - ETA: 0s - loss: 1.4031 - categorical_accuracy: 0.3831\n",
      "Epoch 00010: saving model to model_init_2022-05-1806_37_32.418090/model-00010-1.40313-0.38308-2.03608-0.29000.h5\n",
      "67/67 [==============================] - 76s 1s/step - loss: 1.4031 - categorical_accuracy: 0.3831 - val_loss: 2.0361 - val_categorical_accuracy: 0.2900 - lr: 0.0010\n",
      "Epoch 11/30\n",
      "67/67 [==============================] - ETA: 0s - loss: 1.4052 - categorical_accuracy: 0.4129\n",
      "Epoch 00011: saving model to model_init_2022-05-1806_37_32.418090/model-00011-1.40517-0.41294-1.13139-0.59000.h5\n",
      "67/67 [==============================] - 75s 1s/step - loss: 1.4052 - categorical_accuracy: 0.4129 - val_loss: 1.1314 - val_categorical_accuracy: 0.5900 - lr: 0.0010\n",
      "Epoch 12/30\n",
      "67/67 [==============================] - ETA: 0s - loss: 1.3102 - categorical_accuracy: 0.4279\n",
      "Epoch 00012: saving model to model_init_2022-05-1806_37_32.418090/model-00012-1.31016-0.42786-1.74381-0.35000.h5\n",
      "67/67 [==============================] - 79s 1s/step - loss: 1.3102 - categorical_accuracy: 0.4279 - val_loss: 1.7438 - val_categorical_accuracy: 0.3500 - lr: 0.0010\n",
      "Epoch 13/30\n",
      "67/67 [==============================] - ETA: 0s - loss: 1.2426 - categorical_accuracy: 0.5522\n",
      "Epoch 00013: saving model to model_init_2022-05-1806_37_32.418090/model-00013-1.24264-0.55224-1.99665-0.30000.h5\n",
      "67/67 [==============================] - 75s 1s/step - loss: 1.2426 - categorical_accuracy: 0.5522 - val_loss: 1.9966 - val_categorical_accuracy: 0.3000 - lr: 0.0010\n",
      "Epoch 14/30\n",
      "67/67 [==============================] - ETA: 0s - loss: 1.3095 - categorical_accuracy: 0.4577\n",
      "Epoch 00014: saving model to model_init_2022-05-1806_37_32.418090/model-00014-1.30947-0.45771-1.49403-0.31000.h5\n",
      "67/67 [==============================] - 75s 1s/step - loss: 1.3095 - categorical_accuracy: 0.4577 - val_loss: 1.4940 - val_categorical_accuracy: 0.3100 - lr: 0.0010\n",
      "Epoch 15/30\n",
      "67/67 [==============================] - ETA: 0s - loss: 1.1985 - categorical_accuracy: 0.5323\n",
      "Epoch 00015: saving model to model_init_2022-05-1806_37_32.418090/model-00015-1.19852-0.53234-1.12417-0.54000.h5\n",
      "67/67 [==============================] - 77s 1s/step - loss: 1.1985 - categorical_accuracy: 0.5323 - val_loss: 1.1242 - val_categorical_accuracy: 0.5400 - lr: 0.0010\n",
      "Epoch 16/30\n",
      "67/67 [==============================] - ETA: 0s - loss: 1.2149 - categorical_accuracy: 0.4826\n",
      "Epoch 00016: saving model to model_init_2022-05-1806_37_32.418090/model-00016-1.21486-0.48259-1.63753-0.40000.h5\n",
      "67/67 [==============================] - 73s 1s/step - loss: 1.2149 - categorical_accuracy: 0.4826 - val_loss: 1.6375 - val_categorical_accuracy: 0.4000 - lr: 0.0010\n",
      "Epoch 17/30\n",
      "67/67 [==============================] - ETA: 0s - loss: 1.2450 - categorical_accuracy: 0.5224\n",
      "Epoch 00017: saving model to model_init_2022-05-1806_37_32.418090/model-00017-1.24500-0.52239-2.78704-0.31000.h5\n",
      "67/67 [==============================] - 72s 1s/step - loss: 1.2450 - categorical_accuracy: 0.5224 - val_loss: 2.7870 - val_categorical_accuracy: 0.3100 - lr: 0.0010\n",
      "Epoch 18/30\n",
      "67/67 [==============================] - ETA: 0s - loss: 1.1490 - categorical_accuracy: 0.4925\n",
      "Epoch 00018: saving model to model_init_2022-05-1806_37_32.418090/model-00018-1.14897-0.49254-1.27568-0.43000.h5\n",
      "67/67 [==============================] - 76s 1s/step - loss: 1.1490 - categorical_accuracy: 0.4925 - val_loss: 1.2757 - val_categorical_accuracy: 0.4300 - lr: 0.0010\n",
      "Epoch 19/30\n",
      "67/67 [==============================] - ETA: 0s - loss: 1.0281 - categorical_accuracy: 0.5821\n",
      "Epoch 00019: saving model to model_init_2022-05-1806_37_32.418090/model-00019-1.02814-0.58209-0.88356-0.66000.h5\n",
      "67/67 [==============================] - 76s 1s/step - loss: 1.0281 - categorical_accuracy: 0.5821 - val_loss: 0.8836 - val_categorical_accuracy: 0.6600 - lr: 0.0010\n",
      "Epoch 20/30\n",
      "67/67 [==============================] - ETA: 0s - loss: 1.0201 - categorical_accuracy: 0.5920\n",
      "Epoch 00020: saving model to model_init_2022-05-1806_37_32.418090/model-00020-1.02010-0.59204-0.99041-0.63000.h5\n",
      "67/67 [==============================] - 74s 1s/step - loss: 1.0201 - categorical_accuracy: 0.5920 - val_loss: 0.9904 - val_categorical_accuracy: 0.6300 - lr: 0.0010\n",
      "Epoch 21/30\n",
      "67/67 [==============================] - ETA: 0s - loss: 1.4374 - categorical_accuracy: 0.4527\n",
      "Epoch 00021: saving model to model_init_2022-05-1806_37_32.418090/model-00021-1.43735-0.45274-1.48932-0.25000.h5\n",
      "67/67 [==============================] - 72s 1s/step - loss: 1.4374 - categorical_accuracy: 0.4527 - val_loss: 1.4893 - val_categorical_accuracy: 0.2500 - lr: 0.0010\n",
      "Epoch 22/30\n",
      "67/67 [==============================] - ETA: 0s - loss: 1.1470 - categorical_accuracy: 0.5473\n",
      "Epoch 00022: saving model to model_init_2022-05-1806_37_32.418090/model-00022-1.14702-0.54726-1.28615-0.43000.h5\n",
      "67/67 [==============================] - 78s 1s/step - loss: 1.1470 - categorical_accuracy: 0.5473 - val_loss: 1.2861 - val_categorical_accuracy: 0.4300 - lr: 0.0010\n",
      "Epoch 23/30\n",
      "67/67 [==============================] - ETA: 0s - loss: 1.1563 - categorical_accuracy: 0.5721\n",
      "Epoch 00023: saving model to model_init_2022-05-1806_37_32.418090/model-00023-1.15628-0.57214-1.06885-0.58000.h5\n",
      "\n",
      "Epoch 00023: ReduceLROnPlateau reducing learning rate to 0.00020000000949949026.\n",
      "67/67 [==============================] - 76s 1s/step - loss: 1.1563 - categorical_accuracy: 0.5721 - val_loss: 1.0689 - val_categorical_accuracy: 0.5800 - lr: 0.0010\n",
      "Epoch 24/30\n",
      "67/67 [==============================] - ETA: 0s - loss: 1.0351 - categorical_accuracy: 0.5920\n",
      "Epoch 00024: saving model to model_init_2022-05-1806_37_32.418090/model-00024-1.03512-0.59204-0.99848-0.62000.h5\n",
      "67/67 [==============================] - 74s 1s/step - loss: 1.0351 - categorical_accuracy: 0.5920 - val_loss: 0.9985 - val_categorical_accuracy: 0.6200 - lr: 2.0000e-04\n",
      "Epoch 25/30\n",
      "67/67 [==============================] - ETA: 0s - loss: 0.9829 - categorical_accuracy: 0.6269\n",
      "Epoch 00025: saving model to model_init_2022-05-1806_37_32.418090/model-00025-0.98285-0.62687-1.01306-0.61000.h5\n",
      "67/67 [==============================] - 79s 1s/step - loss: 0.9829 - categorical_accuracy: 0.6269 - val_loss: 1.0131 - val_categorical_accuracy: 0.6100 - lr: 2.0000e-04\n",
      "Epoch 26/30\n",
      "67/67 [==============================] - ETA: 0s - loss: 0.9311 - categorical_accuracy: 0.6119\n",
      "Epoch 00026: saving model to model_init_2022-05-1806_37_32.418090/model-00026-0.93114-0.61194-1.18794-0.57000.h5\n",
      "67/67 [==============================] - 74s 1s/step - loss: 0.9311 - categorical_accuracy: 0.6119 - val_loss: 1.1879 - val_categorical_accuracy: 0.5700 - lr: 2.0000e-04\n",
      "Epoch 27/30\n",
      "67/67 [==============================] - ETA: 0s - loss: 1.0748 - categorical_accuracy: 0.5821\n",
      "Epoch 00027: saving model to model_init_2022-05-1806_37_32.418090/model-00027-1.07478-0.58209-0.99260-0.57000.h5\n",
      "\n",
      "Epoch 00027: ReduceLROnPlateau reducing learning rate to 4.0000001899898055e-05.\n",
      "67/67 [==============================] - 75s 1s/step - loss: 1.0748 - categorical_accuracy: 0.5821 - val_loss: 0.9926 - val_categorical_accuracy: 0.5700 - lr: 2.0000e-04\n",
      "Epoch 28/30\n",
      "67/67 [==============================] - ETA: 0s - loss: 1.0578 - categorical_accuracy: 0.6219\n",
      "Epoch 00028: saving model to model_init_2022-05-1806_37_32.418090/model-00028-1.05782-0.62189-0.90332-0.67000.h5\n",
      "67/67 [==============================] - 74s 1s/step - loss: 1.0578 - categorical_accuracy: 0.6219 - val_loss: 0.9033 - val_categorical_accuracy: 0.6700 - lr: 4.0000e-05\n",
      "Epoch 29/30\n",
      "67/67 [==============================] - ETA: 0s - loss: 0.8695 - categorical_accuracy: 0.6866\n",
      "Epoch 00029: saving model to model_init_2022-05-1806_37_32.418090/model-00029-0.86947-0.68657-0.88496-0.63000.h5\n",
      "67/67 [==============================] - 74s 1s/step - loss: 0.8695 - categorical_accuracy: 0.6866 - val_loss: 0.8850 - val_categorical_accuracy: 0.6300 - lr: 4.0000e-05\n",
      "Epoch 00029: early stopping\n"
     ]
    },
    {
     "data": {
      "text/plain": [
       "<keras.callbacks.History at 0x7fd73c1a4550>"
      ]
     },
     "execution_count": 45,
     "metadata": {},
     "output_type": "execute_result"
    }
   ],
   "source": [
    "model_d1.fit(train_generator, steps_per_epoch=steps_per_epoch, epochs=num_epochs, verbose=1, \n",
    "                    callbacks=callbacks_list, validation_data=val_generator, \n",
    "                    validation_steps=validation_steps, class_weight=None, workers=1, initial_epoch=0)"
   ]
  },
  {
   "cell_type": "markdown",
   "metadata": {
    "id": "E54q_AFAgpUK"
   },
   "source": [
    "#### Improvement in accuracy is observed"
   ]
  },
  {
   "cell_type": "markdown",
   "metadata": {
    "id": "7rN13AyugpUK"
   },
   "source": [
    "#### Exp-7: add layers in GRU "
   ]
  },
  {
   "cell_type": "code",
   "execution_count": 32,
   "metadata": {
    "id": "w4Rwvgq_gpUK"
   },
   "outputs": [],
   "source": [
    "input_shape=(x,y,z,channels)\n",
    "model_d2= Sequential()\n",
    "\n",
    "model_d2.add(TimeDistributed(Conv2D(16, kernel_size=(3, 3),  padding='same'),input_shape=input_shape))\n",
    "model_d2.add(TimeDistributed(Activation('relu')))\n",
    "model_d2.add(TimeDistributed(BatchNormalization()))\n",
    "\n",
    "\n",
    "model_d2.add(TimeDistributed(MaxPooling2D(pool_size=(2, 2))))\n",
    "\n",
    "model_d2.add(TimeDistributed(Conv2D(32, kernel_size=(3, 3), padding='same')))\n",
    "model_d2.add(TimeDistributed(Activation('relu')))\n",
    "model_d2.add(TimeDistributed(BatchNormalization()))\n",
    "\n",
    "\n",
    "model_d2.add(TimeDistributed(MaxPooling2D(pool_size=(2, 2))))\n",
    "\n",
    "model_d2.add(TimeDistributed(Conv2D(64, kernel_size=(3, 3),  padding='same')))\n",
    "model_d2.add(TimeDistributed(Activation('relu')))\n",
    "model_d2.add(TimeDistributed(BatchNormalization()))\n",
    "\n",
    "\n",
    "model_d2.add(TimeDistributed(MaxPooling2D(pool_size=(2, 2))))\n",
    "\n",
    "model_d2.add(TimeDistributed(Conv2D(128, kernel_size=(3, 3), padding='same')))\n",
    "model_d2.add(TimeDistributed(Activation('relu')))\n",
    "model_d2.add(TimeDistributed(BatchNormalization()))\n",
    "\n",
    "\n",
    "model_d2.add(TimeDistributed(MaxPooling2D(pool_size=(2, 2))))\n",
    "\n",
    "model_d2.add(TimeDistributed(Flatten()))\n",
    "\n",
    "model_d2.add(GRU(128,return_sequences=True))\n",
    "model_d2.add(Dropout(0.25))\n",
    "\n",
    "model_d2.add(GRU(128))\n",
    "model_d2.add(Dropout(0.25))\n",
    "\n",
    "\n",
    "model_d2.add(Dense(128,activation='relu'))\n",
    "model_d2.add(Dropout(0.25))\n",
    "\n",
    "model_d2.add(Dense(classes, activation='softmax'))\n",
    "\n"
   ]
  },
  {
   "cell_type": "code",
   "execution_count": 33,
   "metadata": {
    "id": "GRlPmchKgpUK",
    "outputId": "f4344b12-ca3f-4674-f086-a0a823dfe2c5"
   },
   "outputs": [
    {
     "name": "stdout",
     "output_type": "stream",
     "text": [
      "Model: \"sequential_4\"\n",
      "_________________________________________________________________\n",
      " Layer (type)                Output Shape              Param #   \n",
      "=================================================================\n",
      " time_distributed_17 (TimeDi  (None, 30, 80, 80, 16)   448       \n",
      " stributed)                                                      \n",
      "                                                                 \n",
      " time_distributed_18 (TimeDi  (None, 30, 80, 80, 16)   0         \n",
      " stributed)                                                      \n",
      "                                                                 \n",
      " time_distributed_19 (TimeDi  (None, 30, 80, 80, 16)   64        \n",
      " stributed)                                                      \n",
      "                                                                 \n",
      " time_distributed_20 (TimeDi  (None, 30, 40, 40, 16)   0         \n",
      " stributed)                                                      \n",
      "                                                                 \n",
      " time_distributed_21 (TimeDi  (None, 30, 40, 40, 32)   4640      \n",
      " stributed)                                                      \n",
      "                                                                 \n",
      " time_distributed_22 (TimeDi  (None, 30, 40, 40, 32)   0         \n",
      " stributed)                                                      \n",
      "                                                                 \n",
      " time_distributed_23 (TimeDi  (None, 30, 40, 40, 32)   128       \n",
      " stributed)                                                      \n",
      "                                                                 \n",
      " time_distributed_24 (TimeDi  (None, 30, 20, 20, 32)   0         \n",
      " stributed)                                                      \n",
      "                                                                 \n",
      " time_distributed_25 (TimeDi  (None, 30, 20, 20, 64)   18496     \n",
      " stributed)                                                      \n",
      "                                                                 \n",
      " time_distributed_26 (TimeDi  (None, 30, 20, 20, 64)   0         \n",
      " stributed)                                                      \n",
      "                                                                 \n",
      " time_distributed_27 (TimeDi  (None, 30, 20, 20, 64)   256       \n",
      " stributed)                                                      \n",
      "                                                                 \n",
      " time_distributed_28 (TimeDi  (None, 30, 10, 10, 64)   0         \n",
      " stributed)                                                      \n",
      "                                                                 \n",
      " time_distributed_29 (TimeDi  (None, 30, 10, 10, 128)  73856     \n",
      " stributed)                                                      \n",
      "                                                                 \n",
      " time_distributed_30 (TimeDi  (None, 30, 10, 10, 128)  0         \n",
      " stributed)                                                      \n",
      "                                                                 \n",
      " time_distributed_31 (TimeDi  (None, 30, 10, 10, 128)  512       \n",
      " stributed)                                                      \n",
      "                                                                 \n",
      " time_distributed_32 (TimeDi  (None, 30, 5, 5, 128)    0         \n",
      " stributed)                                                      \n",
      "                                                                 \n",
      " time_distributed_33 (TimeDi  (None, 30, 3200)         0         \n",
      " stributed)                                                      \n",
      "                                                                 \n",
      " gru_1 (GRU)                 (None, 30, 128)           1278720   \n",
      "                                                                 \n",
      " dropout_5 (Dropout)         (None, 30, 128)           0         \n",
      "                                                                 \n",
      " gru_2 (GRU)                 (None, 128)               99072     \n",
      "                                                                 \n",
      " dropout_6 (Dropout)         (None, 128)               0         \n",
      "                                                                 \n",
      " dense_7 (Dense)             (None, 128)               16512     \n",
      "                                                                 \n",
      " dropout_7 (Dropout)         (None, 128)               0         \n",
      "                                                                 \n",
      " dense_8 (Dense)             (None, 5)                 645       \n",
      "                                                                 \n",
      "=================================================================\n",
      "Total params: 1,493,349\n",
      "Trainable params: 1,492,869\n",
      "Non-trainable params: 480\n",
      "_________________________________________________________________\n",
      "None\n"
     ]
    }
   ],
   "source": [
    "optimiser=tf.keras.optimizers.Adam()\n",
    "model_d2.compile(optimizer=optimiser, loss='categorical_crossentropy', metrics=['categorical_accuracy'])\n",
    "print (model_d2.summary())"
   ]
  },
  {
   "cell_type": "code",
   "execution_count": 34,
   "metadata": {
    "id": "fU2L-GlpgpUL"
   },
   "outputs": [],
   "source": [
    "train_generator = generator(train_path, train_doc, batch_size)\n",
    "val_generator = generator(val_path, val_doc, batch_size)"
   ]
  },
  {
   "cell_type": "code",
   "execution_count": 35,
   "metadata": {
    "id": "z59U85TPgpUL",
    "outputId": "352e6327-75ab-46ce-8e80-6de1cfb5d736"
   },
   "outputs": [
    {
     "name": "stdout",
     "output_type": "stream",
     "text": [
      "Source path =  /home/datasets/Project_data/train ; batch size = 10\n",
      "Epoch 1/20\n"
     ]
    },
    {
     "name": "stderr",
     "output_type": "stream",
     "text": [
      "2022-05-18 12:06:58.250310: I tensorflow/stream_executor/cuda/cuda_dnn.cc:377] Loaded cuDNN version 8302\n"
     ]
    },
    {
     "name": "stdout",
     "output_type": "stream",
     "text": [
      "65/67 [============================>.] - ETA: 4s - loss: 1.4843 - categorical_accuracy: 0.3662Batch:  67 Index: 10\n",
      "67/67 [==============================] - ETA: 0s - loss: 1.4810 - categorical_accuracy: 0.3650Source path =  /home/datasets/Project_data/val ; batch size = 10\n",
      "\n",
      "Epoch 00001: saving model to model_init_2022-05-1812_05_17.124508/model-00001-1.48097-0.36501-2.01979-0.16000.h5\n",
      "67/67 [==============================] - 171s 3s/step - loss: 1.4810 - categorical_accuracy: 0.3650 - val_loss: 2.0198 - val_categorical_accuracy: 0.1600 - lr: 0.0010\n",
      "Epoch 2/20\n",
      "67/67 [==============================] - ETA: 0s - loss: 1.4985 - categorical_accuracy: 0.4030\n",
      "Epoch 00002: saving model to model_init_2022-05-1812_05_17.124508/model-00002-1.49851-0.40299-2.38310-0.15000.h5\n",
      "67/67 [==============================] - 70s 1s/step - loss: 1.4985 - categorical_accuracy: 0.4030 - val_loss: 2.3831 - val_categorical_accuracy: 0.1500 - lr: 0.0010\n",
      "Epoch 3/20\n",
      "67/67 [==============================] - ETA: 0s - loss: 1.4962 - categorical_accuracy: 0.2985\n",
      "Epoch 00003: saving model to model_init_2022-05-1812_05_17.124508/model-00003-1.49617-0.29851-1.95832-0.23000.h5\n",
      "67/67 [==============================] - 72s 1s/step - loss: 1.4962 - categorical_accuracy: 0.2985 - val_loss: 1.9583 - val_categorical_accuracy: 0.2300 - lr: 0.0010\n",
      "Epoch 4/20\n",
      "67/67 [==============================] - ETA: 0s - loss: 1.4464 - categorical_accuracy: 0.4080\n",
      "Epoch 00004: saving model to model_init_2022-05-1812_05_17.124508/model-00004-1.44639-0.40796-2.23876-0.14000.h5\n",
      "67/67 [==============================] - 68s 1s/step - loss: 1.4464 - categorical_accuracy: 0.4080 - val_loss: 2.2388 - val_categorical_accuracy: 0.1400 - lr: 0.0010\n",
      "Epoch 5/20\n",
      "67/67 [==============================] - ETA: 0s - loss: 1.3417 - categorical_accuracy: 0.4328\n",
      "Epoch 00005: saving model to model_init_2022-05-1812_05_17.124508/model-00005-1.34167-0.43284-2.41652-0.17000.h5\n",
      "67/67 [==============================] - 70s 1s/step - loss: 1.3417 - categorical_accuracy: 0.4328 - val_loss: 2.4165 - val_categorical_accuracy: 0.1700 - lr: 0.0010\n",
      "Epoch 6/20\n",
      "67/67 [==============================] - ETA: 0s - loss: 1.1215 - categorical_accuracy: 0.5871\n",
      "Epoch 00006: saving model to model_init_2022-05-1812_05_17.124508/model-00006-1.12149-0.58706-2.35226-0.18000.h5\n",
      "67/67 [==============================] - 73s 1s/step - loss: 1.1215 - categorical_accuracy: 0.5871 - val_loss: 2.3523 - val_categorical_accuracy: 0.1800 - lr: 0.0010\n",
      "Epoch 7/20\n",
      "67/67 [==============================] - ETA: 0s - loss: 1.2516 - categorical_accuracy: 0.5124\n",
      "Epoch 00007: saving model to model_init_2022-05-1812_05_17.124508/model-00007-1.25157-0.51244-2.57659-0.26000.h5\n",
      "\n",
      "Epoch 00007: ReduceLROnPlateau reducing learning rate to 0.00020000000949949026.\n",
      "67/67 [==============================] - 68s 1s/step - loss: 1.2516 - categorical_accuracy: 0.5124 - val_loss: 2.5766 - val_categorical_accuracy: 0.2600 - lr: 0.0010\n",
      "Epoch 8/20\n",
      "67/67 [==============================] - ETA: 0s - loss: 1.0926 - categorical_accuracy: 0.5920\n",
      "Epoch 00008: saving model to model_init_2022-05-1812_05_17.124508/model-00008-1.09256-0.59204-2.78811-0.24000.h5\n",
      "67/67 [==============================] - 67s 1s/step - loss: 1.0926 - categorical_accuracy: 0.5920 - val_loss: 2.7881 - val_categorical_accuracy: 0.2400 - lr: 2.0000e-04\n",
      "Epoch 9/20\n",
      "67/67 [==============================] - ETA: 0s - loss: 0.8923 - categorical_accuracy: 0.6219\n",
      "Epoch 00009: saving model to model_init_2022-05-1812_05_17.124508/model-00009-0.89235-0.62189-2.43376-0.31000.h5\n",
      "67/67 [==============================] - 71s 1s/step - loss: 0.8923 - categorical_accuracy: 0.6219 - val_loss: 2.4338 - val_categorical_accuracy: 0.3100 - lr: 2.0000e-04\n",
      "Epoch 10/20\n",
      "67/67 [==============================] - ETA: 0s - loss: 0.9039 - categorical_accuracy: 0.6766\n",
      "Epoch 00010: saving model to model_init_2022-05-1812_05_17.124508/model-00010-0.90395-0.67662-2.22304-0.30000.h5\n",
      "67/67 [==============================] - 67s 1s/step - loss: 0.9039 - categorical_accuracy: 0.6766 - val_loss: 2.2230 - val_categorical_accuracy: 0.3000 - lr: 2.0000e-04\n",
      "Epoch 11/20\n",
      "67/67 [==============================] - ETA: 0s - loss: 0.8710 - categorical_accuracy: 0.6915\n",
      "Epoch 00011: saving model to model_init_2022-05-1812_05_17.124508/model-00011-0.87100-0.69154-2.03090-0.35000.h5\n",
      "\n",
      "Epoch 00011: ReduceLROnPlateau reducing learning rate to 4.0000001899898055e-05.\n",
      "67/67 [==============================] - 66s 1s/step - loss: 0.8710 - categorical_accuracy: 0.6915 - val_loss: 2.0309 - val_categorical_accuracy: 0.3500 - lr: 2.0000e-04\n",
      "Epoch 12/20\n",
      "67/67 [==============================] - ETA: 0s - loss: 0.7791 - categorical_accuracy: 0.7065\n",
      "Epoch 00012: saving model to model_init_2022-05-1812_05_17.124508/model-00012-0.77906-0.70647-1.29419-0.56000.h5\n",
      "67/67 [==============================] - 69s 1s/step - loss: 0.7791 - categorical_accuracy: 0.7065 - val_loss: 1.2942 - val_categorical_accuracy: 0.5600 - lr: 4.0000e-05\n",
      "Epoch 13/20\n",
      "67/67 [==============================] - ETA: 0s - loss: 0.6712 - categorical_accuracy: 0.7861\n",
      "Epoch 00013: saving model to model_init_2022-05-1812_05_17.124508/model-00013-0.67119-0.78607-1.15538-0.61000.h5\n",
      "67/67 [==============================] - 70s 1s/step - loss: 0.6712 - categorical_accuracy: 0.7861 - val_loss: 1.1554 - val_categorical_accuracy: 0.6100 - lr: 4.0000e-05\n",
      "Epoch 14/20\n",
      "67/67 [==============================] - ETA: 0s - loss: 0.7744 - categorical_accuracy: 0.6965\n",
      "Epoch 00014: saving model to model_init_2022-05-1812_05_17.124508/model-00014-0.77435-0.69652-0.77676-0.75000.h5\n",
      "67/67 [==============================] - 69s 1s/step - loss: 0.7744 - categorical_accuracy: 0.6965 - val_loss: 0.7768 - val_categorical_accuracy: 0.7500 - lr: 4.0000e-05\n",
      "Epoch 15/20\n",
      "67/67 [==============================] - ETA: 0s - loss: 0.7391 - categorical_accuracy: 0.7313\n",
      "Epoch 00015: saving model to model_init_2022-05-1812_05_17.124508/model-00015-0.73905-0.73134-1.02338-0.62000.h5\n",
      "67/67 [==============================] - 66s 994ms/step - loss: 0.7391 - categorical_accuracy: 0.7313 - val_loss: 1.0234 - val_categorical_accuracy: 0.6200 - lr: 4.0000e-05\n",
      "Epoch 16/20\n",
      "67/67 [==============================] - ETA: 0s - loss: 0.7334 - categorical_accuracy: 0.7313\n",
      "Epoch 00016: saving model to model_init_2022-05-1812_05_17.124508/model-00016-0.73336-0.73134-0.85644-0.75000.h5\n",
      "67/67 [==============================] - 71s 1s/step - loss: 0.7334 - categorical_accuracy: 0.7313 - val_loss: 0.8564 - val_categorical_accuracy: 0.7500 - lr: 4.0000e-05\n",
      "Epoch 17/20\n",
      "67/67 [==============================] - ETA: 0s - loss: 0.5713 - categorical_accuracy: 0.8159\n",
      "Epoch 00017: saving model to model_init_2022-05-1812_05_17.124508/model-00017-0.57131-0.81592-0.81133-0.69000.h5\n",
      "67/67 [==============================] - 69s 1s/step - loss: 0.5713 - categorical_accuracy: 0.8159 - val_loss: 0.8113 - val_categorical_accuracy: 0.6900 - lr: 4.0000e-05\n",
      "Epoch 18/20\n",
      "67/67 [==============================] - ETA: 0s - loss: 0.6301 - categorical_accuracy: 0.7960\n",
      "Epoch 00018: saving model to model_init_2022-05-1812_05_17.124508/model-00018-0.63009-0.79602-0.88572-0.72000.h5\n",
      "\n",
      "Epoch 00018: ReduceLROnPlateau reducing learning rate to 8.000000525498762e-06.\n",
      "67/67 [==============================] - 65s 990ms/step - loss: 0.6301 - categorical_accuracy: 0.7960 - val_loss: 0.8857 - val_categorical_accuracy: 0.7200 - lr: 4.0000e-05\n",
      "Epoch 19/20\n",
      "67/67 [==============================] - ETA: 0s - loss: 0.5689 - categorical_accuracy: 0.7910\n",
      "Epoch 00019: saving model to model_init_2022-05-1812_05_17.124508/model-00019-0.56892-0.79104-0.93971-0.70000.h5\n",
      "67/67 [==============================] - 67s 1s/step - loss: 0.5689 - categorical_accuracy: 0.7910 - val_loss: 0.9397 - val_categorical_accuracy: 0.7000 - lr: 8.0000e-06\n",
      "Epoch 20/20\n",
      "67/67 [==============================] - ETA: 0s - loss: 0.7129 - categorical_accuracy: 0.7264\n",
      "Epoch 00020: saving model to model_init_2022-05-1812_05_17.124508/model-00020-0.71287-0.72637-0.93383-0.69000.h5\n",
      "67/67 [==============================] - 72s 1s/step - loss: 0.7129 - categorical_accuracy: 0.7264 - val_loss: 0.9338 - val_categorical_accuracy: 0.6900 - lr: 8.0000e-06\n"
     ]
    },
    {
     "data": {
      "text/plain": [
       "<keras.callbacks.History at 0x7f1bac7906a0>"
      ]
     },
     "execution_count": 35,
     "metadata": {},
     "output_type": "execute_result"
    }
   ],
   "source": [
    "model_d2.fit(train_generator, steps_per_epoch=steps_per_epoch, epochs=num_epochs, verbose=1, \n",
    "                    callbacks=callbacks_list, validation_data=val_generator, \n",
    "                    validation_steps=validation_steps, class_weight=None, workers=1, initial_epoch=0)"
   ]
  },
  {
   "cell_type": "markdown",
   "metadata": {
    "id": "LA-N9nwqgpUL"
   },
   "source": [
    "Training accuracy is 79% and validation accuracy is 69%. Let try to improve it further as there is a slight possibility of overfitting."
   ]
  },
  {
   "cell_type": "markdown",
   "metadata": {
    "id": "DyZL3YWTgpUL"
   },
   "source": [
    "#### Exp-8 :Add dropouts,and set the learning rate to 0.0001"
   ]
  },
  {
   "cell_type": "code",
   "execution_count": 21,
   "metadata": {
    "id": "f7s-aRtKgpUM"
   },
   "outputs": [],
   "source": [
    "input_shape=(x,y,z,channels)\n",
    "model_d3= Sequential()\n",
    "\n",
    "model_d3.add(TimeDistributed(Conv2D(16, kernel_size=(3, 3),  padding='same'),input_shape=input_shape))\n",
    "model_d3.add(TimeDistributed(Activation('relu')))\n",
    "model_d3.add(TimeDistributed(BatchNormalization()))\n",
    "\n",
    "\n",
    "model_d3.add(TimeDistributed(MaxPooling2D(pool_size=(2, 2))))\n",
    "\n",
    "\n",
    "model_d3.add(TimeDistributed(Conv2D(32, kernel_size=(3, 3), padding='same')))\n",
    "model_d3.add(TimeDistributed(Activation('relu')))\n",
    "model_d3.add(TimeDistributed(BatchNormalization()))\n",
    "\n",
    "\n",
    "model_d3.add(TimeDistributed(MaxPooling2D(pool_size=(2, 2))))\n",
    "\n",
    "model_d3.add(TimeDistributed(Conv2D(64, kernel_size=(3, 3),  padding='same')))\n",
    "model_d3.add(TimeDistributed(Activation('relu')))\n",
    "model_d3.add(TimeDistributed(BatchNormalization()))\n",
    "\n",
    "\n",
    "model_d3.add(TimeDistributed(MaxPooling2D(pool_size=(2, 2))))\n",
    "\n",
    "\n",
    "model_d3.add(TimeDistributed(Conv2D(128, kernel_size=(3, 3), padding='same')))\n",
    "model_d3.add(TimeDistributed(Activation('relu')))\n",
    "model_d3.add(TimeDistributed(BatchNormalization()))\n",
    "\n",
    "\n",
    "model_d3.add(TimeDistributed(MaxPooling2D(pool_size=(2, 2))))\n",
    "model_d3.add(Dropout(0.25))\n",
    "\n",
    "model_d3.add(TimeDistributed(Flatten()))\n",
    "\n",
    "model_d3.add(GRU(128,return_sequences=True))\n",
    "model_d3.add(Dropout(0.25))\n",
    "\n",
    "model_d3.add(GRU(128))\n",
    "model_d3.add(Dropout(0.25))\n",
    "\n",
    "\n",
    "model_d3.add(Dense(128,activation='relu'))\n",
    "model_d3.add(Dropout(0.25))\n",
    "\n",
    "model_d3.add(Dense(classes, activation='softmax'))\n",
    "\n"
   ]
  },
  {
   "cell_type": "code",
   "execution_count": 22,
   "metadata": {
    "id": "ZnOPbRhfgpUM",
    "outputId": "08bcf48a-9ee0-404e-a743-ebcf32b0d9b0"
   },
   "outputs": [
    {
     "name": "stdout",
     "output_type": "stream",
     "text": [
      "Model: \"sequential_2\"\n",
      "_________________________________________________________________\n",
      " Layer (type)                Output Shape              Param #   \n",
      "=================================================================\n",
      " time_distributed_17 (TimeDi  (None, 30, 100, 100, 16)  448      \n",
      " stributed)                                                      \n",
      "                                                                 \n",
      " time_distributed_18 (TimeDi  (None, 30, 100, 100, 16)  0        \n",
      " stributed)                                                      \n",
      "                                                                 \n",
      " time_distributed_19 (TimeDi  (None, 30, 100, 100, 16)  64       \n",
      " stributed)                                                      \n",
      "                                                                 \n",
      " time_distributed_20 (TimeDi  (None, 30, 50, 50, 16)   0         \n",
      " stributed)                                                      \n",
      "                                                                 \n",
      " time_distributed_21 (TimeDi  (None, 30, 50, 50, 32)   4640      \n",
      " stributed)                                                      \n",
      "                                                                 \n",
      " time_distributed_22 (TimeDi  (None, 30, 50, 50, 32)   0         \n",
      " stributed)                                                      \n",
      "                                                                 \n",
      " time_distributed_23 (TimeDi  (None, 30, 50, 50, 32)   128       \n",
      " stributed)                                                      \n",
      "                                                                 \n",
      " time_distributed_24 (TimeDi  (None, 30, 25, 25, 32)   0         \n",
      " stributed)                                                      \n",
      "                                                                 \n",
      " time_distributed_25 (TimeDi  (None, 30, 25, 25, 64)   18496     \n",
      " stributed)                                                      \n",
      "                                                                 \n",
      " time_distributed_26 (TimeDi  (None, 30, 25, 25, 64)   0         \n",
      " stributed)                                                      \n",
      "                                                                 \n",
      " time_distributed_27 (TimeDi  (None, 30, 25, 25, 64)   256       \n",
      " stributed)                                                      \n",
      "                                                                 \n",
      " time_distributed_28 (TimeDi  (None, 30, 12, 12, 64)   0         \n",
      " stributed)                                                      \n",
      "                                                                 \n",
      " time_distributed_29 (TimeDi  (None, 30, 12, 12, 128)  73856     \n",
      " stributed)                                                      \n",
      "                                                                 \n",
      " time_distributed_30 (TimeDi  (None, 30, 12, 12, 128)  0         \n",
      " stributed)                                                      \n",
      "                                                                 \n",
      " time_distributed_31 (TimeDi  (None, 30, 12, 12, 128)  512       \n",
      " stributed)                                                      \n",
      "                                                                 \n",
      " time_distributed_32 (TimeDi  (None, 30, 6, 6, 128)    0         \n",
      " stributed)                                                      \n",
      "                                                                 \n",
      " dropout_3 (Dropout)         (None, 30, 6, 6, 128)     0         \n",
      "                                                                 \n",
      " time_distributed_33 (TimeDi  (None, 30, 4608)         0         \n",
      " stributed)                                                      \n",
      "                                                                 \n",
      " gru_1 (GRU)                 (None, 30, 128)           1819392   \n",
      "                                                                 \n",
      " dropout_4 (Dropout)         (None, 30, 128)           0         \n",
      "                                                                 \n",
      " gru_2 (GRU)                 (None, 128)               99072     \n",
      "                                                                 \n",
      " dropout_5 (Dropout)         (None, 128)               0         \n",
      "                                                                 \n",
      " dense_4 (Dense)             (None, 128)               16512     \n",
      "                                                                 \n",
      " dropout_6 (Dropout)         (None, 128)               0         \n",
      "                                                                 \n",
      " dense_5 (Dense)             (None, 5)                 645       \n",
      "                                                                 \n",
      "=================================================================\n",
      "Total params: 2,034,021\n",
      "Trainable params: 2,033,541\n",
      "Non-trainable params: 480\n",
      "_________________________________________________________________\n",
      "None\n"
     ]
    }
   ],
   "source": [
    "optimiser=tf.keras.optimizers.Adam(0.0001)\n",
    "model_d3.compile(optimizer=optimiser, loss='categorical_crossentropy', metrics=['categorical_accuracy'])\n",
    "print (model_d3.summary())"
   ]
  },
  {
   "cell_type": "code",
   "execution_count": 23,
   "metadata": {
    "id": "ebLOXuxNgpUM"
   },
   "outputs": [],
   "source": [
    "train_generator = generator(train_path, train_doc, batch_size)\n",
    "val_generator = generator(val_path, val_doc, batch_size)"
   ]
  },
  {
   "cell_type": "code",
   "execution_count": 24,
   "metadata": {
    "id": "aw5ToShHgpUM",
    "outputId": "97361359-7bb7-4271-bfbc-d0436efc99b4"
   },
   "outputs": [
    {
     "name": "stdout",
     "output_type": "stream",
     "text": [
      "Source path =  /home/datasets/Project_data/train ; batch size = 10\n",
      "Epoch 1/30\n"
     ]
    },
    {
     "name": "stderr",
     "output_type": "stream",
     "text": [
      "2022-05-18 12:47:15.380647: I tensorflow/stream_executor/cuda/cuda_dnn.cc:377] Loaded cuDNN version 8302\n"
     ]
    },
    {
     "name": "stdout",
     "output_type": "stream",
     "text": [
      "65/67 [============================>.] - ETA: 4s - loss: 1.5098 - categorical_accuracy: 0.3215Batch:  67 Index: 10\n",
      "67/67 [==============================] - ETA: 0s - loss: 1.5062 - categorical_accuracy: 0.3213Source path =  /home/datasets/Project_data/val ; batch size = 10\n",
      "\n",
      "Epoch 00001: saving model to model_init_2022-05-1812_46_48.418371/model-00001-1.50616-0.32127-1.70813-0.16000.h5\n",
      "67/67 [==============================] - 167s 2s/step - loss: 1.5062 - categorical_accuracy: 0.3213 - val_loss: 1.7081 - val_categorical_accuracy: 0.1600 - lr: 1.0000e-04\n",
      "Epoch 2/30\n",
      "67/67 [==============================] - ETA: 0s - loss: 1.2608 - categorical_accuracy: 0.4726\n",
      "Epoch 00002: saving model to model_init_2022-05-1812_46_48.418371/model-00002-1.26085-0.47264-1.83875-0.15000.h5\n",
      "67/67 [==============================] - 67s 1s/step - loss: 1.2608 - categorical_accuracy: 0.4726 - val_loss: 1.8387 - val_categorical_accuracy: 0.1500 - lr: 1.0000e-04\n",
      "Epoch 3/30\n",
      "67/67 [==============================] - ETA: 0s - loss: 1.2398 - categorical_accuracy: 0.5174\n",
      "Epoch 00003: saving model to model_init_2022-05-1812_46_48.418371/model-00003-1.23980-0.51741-1.76099-0.18000.h5\n",
      "67/67 [==============================] - 68s 1s/step - loss: 1.2398 - categorical_accuracy: 0.5174 - val_loss: 1.7610 - val_categorical_accuracy: 0.1800 - lr: 1.0000e-04\n",
      "Epoch 4/30\n",
      "67/67 [==============================] - ETA: 0s - loss: 1.1094 - categorical_accuracy: 0.6169\n",
      "Epoch 00004: saving model to model_init_2022-05-1812_46_48.418371/model-00004-1.10936-0.61692-1.87160-0.14000.h5\n",
      "67/67 [==============================] - 65s 984ms/step - loss: 1.1094 - categorical_accuracy: 0.6169 - val_loss: 1.8716 - val_categorical_accuracy: 0.1400 - lr: 1.0000e-04\n",
      "Epoch 5/30\n",
      "67/67 [==============================] - ETA: 0s - loss: 0.9549 - categorical_accuracy: 0.6318\n",
      "Epoch 00005: saving model to model_init_2022-05-1812_46_48.418371/model-00005-0.95492-0.63184-1.90157-0.17000.h5\n",
      "\n",
      "Epoch 00005: ReduceLROnPlateau reducing learning rate to 1.9999999494757503e-05.\n",
      "67/67 [==============================] - 67s 1s/step - loss: 0.9549 - categorical_accuracy: 0.6318 - val_loss: 1.9016 - val_categorical_accuracy: 0.1700 - lr: 1.0000e-04\n",
      "Epoch 6/30\n",
      "67/67 [==============================] - ETA: 0s - loss: 0.8318 - categorical_accuracy: 0.7164\n",
      "Epoch 00006: saving model to model_init_2022-05-1812_46_48.418371/model-00006-0.83178-0.71642-2.12747-0.18000.h5\n",
      "67/67 [==============================] - 68s 1s/step - loss: 0.8318 - categorical_accuracy: 0.7164 - val_loss: 2.1275 - val_categorical_accuracy: 0.1800 - lr: 2.0000e-05\n",
      "Epoch 7/30\n",
      "67/67 [==============================] - ETA: 0s - loss: 0.8431 - categorical_accuracy: 0.7015\n",
      "Epoch 00007: saving model to model_init_2022-05-1812_46_48.418371/model-00007-0.84308-0.70149-2.24678-0.19000.h5\n",
      "67/67 [==============================] - 64s 974ms/step - loss: 0.8431 - categorical_accuracy: 0.7015 - val_loss: 2.2468 - val_categorical_accuracy: 0.1900 - lr: 2.0000e-05\n",
      "Epoch 8/30\n",
      "67/67 [==============================] - ETA: 0s - loss: 0.7606 - categorical_accuracy: 0.7662\n",
      "Epoch 00008: saving model to model_init_2022-05-1812_46_48.418371/model-00008-0.76062-0.76617-2.34105-0.23000.h5\n",
      "67/67 [==============================] - 64s 969ms/step - loss: 0.7606 - categorical_accuracy: 0.7662 - val_loss: 2.3411 - val_categorical_accuracy: 0.2300 - lr: 2.0000e-05\n",
      "Epoch 9/30\n",
      "67/67 [==============================] - ETA: 0s - loss: 0.7216 - categorical_accuracy: 0.7910\n",
      "Epoch 00009: saving model to model_init_2022-05-1812_46_48.418371/model-00009-0.72160-0.79104-2.29840-0.28000.h5\n",
      "\n",
      "Epoch 00009: ReduceLROnPlateau reducing learning rate to 3.999999898951501e-06.\n",
      "67/67 [==============================] - 68s 1s/step - loss: 0.7216 - categorical_accuracy: 0.7910 - val_loss: 2.2984 - val_categorical_accuracy: 0.2800 - lr: 2.0000e-05\n",
      "Epoch 10/30\n",
      "67/67 [==============================] - ETA: 0s - loss: 0.6965 - categorical_accuracy: 0.7711\n",
      "Epoch 00010: saving model to model_init_2022-05-1812_46_48.418371/model-00010-0.69645-0.77114-1.99550-0.34000.h5\n",
      "67/67 [==============================] - 64s 975ms/step - loss: 0.6965 - categorical_accuracy: 0.7711 - val_loss: 1.9955 - val_categorical_accuracy: 0.3400 - lr: 4.0000e-06\n",
      "Epoch 11/30\n",
      "67/67 [==============================] - ETA: 0s - loss: 0.6975 - categorical_accuracy: 0.7811\n",
      "Epoch 00011: saving model to model_init_2022-05-1812_46_48.418371/model-00011-0.69746-0.78109-1.41289-0.46000.h5\n",
      "67/67 [==============================] - 64s 967ms/step - loss: 0.6975 - categorical_accuracy: 0.7811 - val_loss: 1.4129 - val_categorical_accuracy: 0.4600 - lr: 4.0000e-06\n",
      "Epoch 12/30\n",
      "67/67 [==============================] - ETA: 0s - loss: 0.6393 - categorical_accuracy: 0.8109\n",
      "Epoch 00012: saving model to model_init_2022-05-1812_46_48.418371/model-00012-0.63933-0.81095-0.95525-0.65000.h5\n",
      "67/67 [==============================] - 67s 1s/step - loss: 0.6393 - categorical_accuracy: 0.8109 - val_loss: 0.9553 - val_categorical_accuracy: 0.6500 - lr: 4.0000e-06\n",
      "Epoch 13/30\n",
      "67/67 [==============================] - ETA: 0s - loss: 0.6495 - categorical_accuracy: 0.8109\n",
      "Epoch 00013: saving model to model_init_2022-05-1812_46_48.418371/model-00013-0.64949-0.81095-0.84242-0.64000.h5\n",
      "67/67 [==============================] - 66s 1s/step - loss: 0.6495 - categorical_accuracy: 0.8109 - val_loss: 0.8424 - val_categorical_accuracy: 0.6400 - lr: 4.0000e-06\n",
      "Epoch 14/30\n",
      "67/67 [==============================] - ETA: 0s - loss: 0.6503 - categorical_accuracy: 0.8010\n",
      "Epoch 00014: saving model to model_init_2022-05-1812_46_48.418371/model-00014-0.65035-0.80100-0.73277-0.78000.h5\n",
      "67/67 [==============================] - 66s 999ms/step - loss: 0.6503 - categorical_accuracy: 0.8010 - val_loss: 0.7328 - val_categorical_accuracy: 0.7800 - lr: 4.0000e-06\n",
      "Epoch 15/30\n",
      "65/67 [============================>.] - ETA: 1s - loss: 0.6848 - categorical_accuracy: 0.7795\n",
      "Epoch 00023: saving model to model_init_2022-05-1812_46_48.418371/model-00023-0.65187-0.79104-0.82463-0.68000.h5\n",
      "67/67 [==============================] - 67s 1s/step - loss: 0.6519 - categorical_accuracy: 0.7910 - val_loss: 0.8246 - val_categorical_accuracy: 0.6800 - lr: 8.0000e-07\n",
      "Epoch 24/30\n",
      "67/67 [==============================] - ETA: 0s - loss: 0.5945 - categorical_accuracy: 0.7761\n",
      "Epoch 00024: saving model to model_init_2022-05-1812_46_48.418371/model-00024-0.59446-0.77612-0.76530-0.71000.h5\n",
      "67/67 [==============================] - 66s 1000ms/step - loss: 0.5945 - categorical_accuracy: 0.7761 - val_loss: 0.7653 - val_categorical_accuracy: 0.7100 - lr: 8.0000e-07\n",
      "Epoch 25/30\n",
      "67/67 [==============================] - ETA: 0s - loss: 0.5843 - categorical_accuracy: 0.8259\n",
      "Epoch 00025: saving model to model_init_2022-05-1812_46_48.418371/model-00025-0.58426-0.82587-0.73052-0.71000.h5\n",
      "67/67 [==============================] - 66s 995ms/step - loss: 0.5843 - categorical_accuracy: 0.8259 - val_loss: 0.7305 - val_categorical_accuracy: 0.7100 - lr: 8.0000e-07\n",
      "Epoch 26/30\n",
      "67/67 [==============================] - ETA: 0s - loss: 0.6560 - categorical_accuracy: 0.8159\n",
      "Epoch 00026: saving model to model_init_2022-05-1812_46_48.418371/model-00026-0.65597-0.81592-0.71004-0.78000.h5\n",
      "\n",
      "Epoch 00026: ReduceLROnPlateau reducing learning rate to 1.600000018697756e-07.\n",
      "67/67 [==============================] - 64s 967ms/step - loss: 0.6560 - categorical_accuracy: 0.8159 - val_loss: 0.7100 - val_categorical_accuracy: 0.7800 - lr: 8.0000e-07\n",
      "Epoch 27/30\n",
      "67/67 [==============================] - ETA: 0s - loss: 0.5840 - categorical_accuracy: 0.7960\n",
      "Epoch 00027: saving model to model_init_2022-05-1812_46_48.418371/model-00027-0.58397-0.79602-0.77888-0.70000.h5\n",
      "67/67 [==============================] - 69s 1s/step - loss: 0.5840 - categorical_accuracy: 0.7960 - val_loss: 0.7789 - val_categorical_accuracy: 0.7000 - lr: 1.6000e-07\n",
      "Epoch 28/30\n",
      "67/67 [==============================] - ETA: 0s - loss: 0.5879 - categorical_accuracy: 0.7960\n",
      "Epoch 00028: saving model to model_init_2022-05-1812_46_48.418371/model-00028-0.58786-0.79602-0.74478-0.69000.h5\n",
      "67/67 [==============================] - 66s 999ms/step - loss: 0.5879 - categorical_accuracy: 0.7960 - val_loss: 0.7448 - val_categorical_accuracy: 0.6900 - lr: 1.6000e-07\n",
      "Epoch 29/30\n",
      "67/67 [==============================] - ETA: 0s - loss: 0.6391 - categorical_accuracy: 0.7960\n",
      "Epoch 00029: saving model to model_init_2022-05-1812_46_48.418371/model-00029-0.63910-0.79602-0.78577-0.70000.h5\n",
      "67/67 [==============================] - 67s 1s/step - loss: 0.6391 - categorical_accuracy: 0.7960 - val_loss: 0.7858 - val_categorical_accuracy: 0.7000 - lr: 1.6000e-07\n",
      "Epoch 30/30\n",
      "67/67 [==============================] - ETA: 0s - loss: 0.6470 - categorical_accuracy: 0.7910\n",
      "Epoch 00030: saving model to model_init_2022-05-1812_46_48.418371/model-00030-0.64701-0.79104-0.71830-0.74000.h5\n",
      "\n",
      "Epoch 00030: ReduceLROnPlateau reducing learning rate to 3.199999980552093e-08.\n",
      "67/67 [==============================] - 66s 1s/step - loss: 0.6470 - categorical_accuracy: 0.7910 - val_loss: 0.7183 - val_categorical_accuracy: 0.7400 - lr: 1.6000e-07\n"
     ]
    },
    {
     "data": {
      "text/plain": [
       "<keras.callbacks.History at 0x7f339051d640>"
      ]
     },
     "execution_count": 24,
     "metadata": {},
     "output_type": "execute_result"
    }
   ],
   "source": [
    "model_d3.fit(train_generator, steps_per_epoch=steps_per_epoch, epochs=num_epochs, verbose=1, \n",
    "                    callbacks=callbacks_list, validation_data=val_generator, \n",
    "                    validation_steps=validation_steps, class_weight=None, workers=1, initial_epoch=0)"
   ]
  },
  {
   "cell_type": "markdown",
   "metadata": {
    "id": "nDQXQs2fgpUN"
   },
   "source": [
    " training accuracy is 80% and the validation accuracy is 79.0%. But the loss is too high and it didnt decreased."
   ]
  },
  {
   "cell_type": "markdown",
   "metadata": {
    "id": "S5sgZqGpgpUN"
   },
   "source": [
    "## Thus final model is Exp-8 with Training Accuracy: 0.80, Validation accuracy: 0.79 with least number of parameters."
   ]
  }
 ],
 "metadata": {
  "colab": {
   "name": "Gesture_Recognition_NN (1).ipynb",
   "provenance": []
  },
  "kernelspec": {
   "display_name": "Python 3 (ipykernel)",
   "language": "python",
   "name": "python3"
  },
  "language_info": {
   "codemirror_mode": {
    "name": "ipython",
    "version": 3
   },
   "file_extension": ".py",
   "mimetype": "text/x-python",
   "name": "python",
   "nbconvert_exporter": "python",
   "pygments_lexer": "ipython3",
   "version": "3.8.10"
  }
 },
 "nbformat": 4,
 "nbformat_minor": 4
}
